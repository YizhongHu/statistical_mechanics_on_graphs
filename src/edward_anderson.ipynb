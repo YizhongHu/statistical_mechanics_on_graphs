{
 "cells": [
  {
   "cell_type": "code",
   "execution_count": 2,
   "metadata": {},
   "outputs": [],
   "source": [
    "import numpy as np\n",
    "import matplotlib.pyplot as plt\n",
    "from scipy.optimize import minimize, LinearConstraint, NonlinearConstraint, Bounds\n",
    "import scipy.special\n",
    "from scipy.stats import binom, multinomial\n",
    "from tqdm import tqdm\n",
    "\n",
    "from combinations import combinations_"
   ]
  },
  {
   "cell_type": "code",
   "execution_count": 4,
   "metadata": {},
   "outputs": [
    {
     "name": "stdout",
     "output_type": "stream",
     "text": [
      "C=[[0 0 0 2]\n",
      " [0 0 1 1]\n",
      " [0 0 2 0]\n",
      " [0 1 0 1]\n",
      " [0 1 1 0]\n",
      " [1 0 0 1]\n",
      " [1 0 1 0]\n",
      " [0 2 0 0]\n",
      " [1 1 0 0]\n",
      " [2 0 0 0]]\n",
      "eta(2)=array([[0.03125, 0.0625 , 0.03125, 0.0625 , 0.0625 , 0.0625 , 0.0625 ,\n",
      "        0.03125, 0.0625 , 0.03125],\n",
      "       [0.03125, 0.0625 , 0.03125, 0.0625 , 0.0625 , 0.0625 , 0.0625 ,\n",
      "        0.03125, 0.0625 , 0.03125]])\n",
      "edge_distribution(eta(2), kappa=2, counts=C)=array([[[0.125, 0.125],\n",
      "        [0.125, 0.125]],\n",
      "\n",
      "       [[0.125, 0.125],\n",
      "        [0.125, 0.125]]])\n",
      "Hamiltonian(1, 0, C)=array([[-1., -0.,  1., -0.,  1., -1., -0.,  1., -0., -1.],\n",
      "       [ 1.,  0., -1.,  0., -1.,  1.,  0., -1.,  0.,  1.]])\n",
      "ver_dist=array([[0.0625, 0.0625, 0.0625, 0.0625],\n",
      "       [0.0625, 0.0625, 0.0625, 0.0625],\n",
      "       [0.0625, 0.0625, 0.0625, 0.0625],\n",
      "       [0.0625, 0.0625, 0.0625, 0.0625]])\n",
      "np.sum(ver_dist)=1.0\n"
     ]
    }
   ],
   "source": [
    "def get_configuration_chart(vertex_states, kappa):\n",
    "    '''\n",
    "    Given the number of vertex-edge states, output all the unique configurations they can be\n",
    "    in (Balls and bins problem)\n",
    "    '''\n",
    "    return np.array(combinations_(kappa, vertex_states))\n",
    "\n",
    "print(f'C={get_configuration_chart(4, 2)}')\n",
    "\n",
    "def eta(kappa):\n",
    "    '''\n",
    "    Generate a Bernoulli(1/2) distribution on vertices and edges\n",
    "    '''\n",
    "    conf_chart = get_configuration_chart(4, kappa)\n",
    "    return np.vstack([multinomial.pmf(conf_chart, n=kappa, p=[1/4] * 4)/2] * 2)\n",
    "\n",
    "def Hamiltonian(beta, B, C):\n",
    "    '''\n",
    "    Generate hamiltonian values corresponding to all unique states\n",
    "    '''\n",
    "    vertex_spin_sum = C[:, 0] - C[:, 1] - C[:, 2] + C[:, 3]\n",
    "    return np.vstack([-beta / 2 * vertex_spin_sum - B,\n",
    "                      beta / 2 * vertex_spin_sum + B])\n",
    "\n",
    "def relative_entropy(p, q):\n",
    "    p_divided_by_q = np.divide(p, q, out=np.ones_like(p), where=(p > 0) & (q > 0))\n",
    "    partial = p * np.log(p_divided_by_q)\n",
    "    return np.sum(partial)\n",
    "\n",
    "def edge_distribution(p, kappa, counts):\n",
    "    '''\n",
    "    Joint distribution for a randomly-chosen edge \n",
    "    '''\n",
    "    # return p @ counts / kappa\n",
    "    # Equivalent to p @ counts / kappa, but y_0v and x_v are different axes \n",
    "    return np.stack([p @ counts[:, :2], p @ counts[:, 2:]], axis=1) / kappa\n",
    "\n",
    "def multinomial_coeff(params):\n",
    "    '''\n",
    "    Calculate the multinomial coefficient\n",
    "    \n",
    "    Inputs:\n",
    "    params: a list, [x1, x2, ..., xk]\n",
    "    \n",
    "    Outputs:\n",
    "    multinomial coefficient {x1 + x2 + ... + xk \\choose x1 x2 ... xk}\n",
    "    '''\n",
    "    if len(params) == 1:\n",
    "        return 1\n",
    "    return scipy.special.binom(sum(params), params[-1]) * multinomial_coeff(params[:-1])\n",
    "\n",
    "def vertex_distribution(p, kappa, C):\n",
    "    '''\n",
    "    Joint distribution for all edge-vertex pairs\n",
    "    \n",
    "    Input:\n",
    "    p: 1-d array representing distribution on leaf configurations\n",
    "    \n",
    "    Output:\n",
    "    kappa-d array representing the joint distribution of all edge-vertex pairs\n",
    "    '''\n",
    "    # Get the equivalent configuration for each combined vertex-edge state\n",
    "    def counts(*vertex_marks):\n",
    "        stacked = np.stack(vertex_marks, axis=0)\n",
    "        ks = [np.count_nonzero(stacked == l, axis=0) for l in range(4)]\n",
    "        return np.stack(ks, axis=-1)\n",
    "    ks = np.fromfunction(counts, [4] * kappa)\n",
    "    \n",
    "    # Match the configurations with the ones from configurations list\n",
    "    k_reshaped = ks.reshape((-1, 4))\n",
    "    indices = [(conf == C).all(axis=-1).nonzero()[0][0] for conf in k_reshaped]\n",
    "    \n",
    "    # Calculate probabilities for each one\n",
    "    probabilities = [p[index] / multinomial_coeff(C[index]) for index in indices]\n",
    "    \n",
    "    return np.array(probabilities).reshape((4,) * kappa)\n",
    "\n",
    "def objective_function(mu, beta, B, kappa, C):\n",
    "    eta_dist = eta(kappa=kappa)\n",
    "    hamiltonian = Hamiltonian(beta=beta, B=B, C=C)\n",
    "    exp = np.sum(hamiltonian * mu)\n",
    "    rel_entr = relative_entropy(mu, eta_dist)\n",
    "    pi_mu = edge_distribution(mu, kappa=kappa, counts=C)\n",
    "    pi_eta = edge_distribution(eta_dist, kappa=kappa, counts=C)\n",
    "    marg_rel_entr = relative_entropy(pi_mu, pi_eta)\n",
    "    return exp - rel_entr + kappa / 2 * marg_rel_entr\n",
    "\n",
    "C = get_configuration_chart(4, 2)\n",
    "print(f'{eta(2)=}')\n",
    "print(f'{edge_distribution(eta(2), kappa=2, counts=C)=}')\n",
    "print(f'{Hamiltonian(1, 0, C)=}')\n",
    "ver_dist = vertex_distribution(np.sum(eta(kappa=2), axis=0), kappa=2, C=C)\n",
    "print(f'{ver_dist=}')\n",
    "print(f'{np.sum(ver_dist)=}')"
   ]
  },
  {
   "cell_type": "code",
   "execution_count": 59,
   "metadata": {},
   "outputs": [],
   "source": [
    "def optimize(beta, B, kappa, mu0=None, C=None, verbose=False, ftol=1e-9, max_iter=1000, project_mu0=False):\n",
    "    if C is None:\n",
    "        C = get_configuration_chart(4, kappa)\n",
    "    if verbose:\n",
    "        # print(f'{C=}')\n",
    "        pass\n",
    "    num_configurations = len(C)\n",
    "    \n",
    "    eta_dist = eta(kappa=kappa)\n",
    "    bounds = Bounds(np.zeros_like(eta_dist.flatten()), np.ones_like(eta_dist.flatten()), keep_feasible=True)\n",
    "    norm_constraint = LinearConstraint(np.ones_like(eta_dist.flatten()), 1, 1, keep_feasible=True)\n",
    "    admissibility_linear = np.block([[C[:, 1], -C[:, 0]],\n",
    "                                    [C[:, 3], -C[:, 2]]]) / kappa\n",
    "    admissibility_constraint = LinearConstraint(admissibility_linear, lb=0, ub=0, keep_feasible=True)\n",
    "    \n",
    "    if mu0 is None:\n",
    "        mu0 = np.random.uniform(-1, 1, size=eta_dist.shape)\n",
    "        mu0 = mu0 / np.sum(mu0)\n",
    "        # Project onto the closest point on the probability simplex\n",
    "        if project_mu0:\n",
    "            res = minimize(lambda mu: np.sum((mu - mu0.flatten())** 2) / 2, x0=mu0.flatten(), \n",
    "                        method='trust-constr', \n",
    "                        constraints=[norm_constraint, admissibility_constraint], \n",
    "                        bounds=bounds)\n",
    "            mu0 = res.x.reshape(2, -1)\n",
    "    \n",
    "    if verbose:\n",
    "        print(f'{beta=}, {B=}, {kappa=}\\n{mu0=}\\n{np.sum(mu0)=}')\n",
    "    \n",
    "    res = minimize(lambda mu: -objective_function(mu.reshape(2, num_configurations), beta=beta, B=B, kappa=kappa, C=C),\n",
    "                   x0=mu0.flatten(), method='SLSQP', \n",
    "                   constraints=[norm_constraint, admissibility_constraint],\n",
    "                   bounds=bounds,\n",
    "                   options={'ftol': ftol, 'disp': verbose, 'maxiter': max_iter})\n",
    "    \n",
    "    mu = res.x.reshape(2, num_configurations)\n",
    "    \n",
    "    if verbose:\n",
    "        print(f'{objective_function(mu, beta=beta, B=B, kappa=kappa, C=C)=}\\n')\n",
    "        print(f'{mu=}\\n\\n{np.sum(mu)=}\\n\\n edge_distribution={edge_distribution(mu, kappa=kappa, counts=C)}')\n",
    "    \n",
    "    return mu"
   ]
  },
  {
   "cell_type": "code",
   "execution_count": 54,
   "metadata": {},
   "outputs": [
    {
     "name": "stdout",
     "output_type": "stream",
     "text": [
      "beta=1, B=1, kappa=6\n",
      "mu0=array([[-0.01151076,  0.02029927, -0.07436844, -0.02609722,  0.07096563,\n",
      "         0.0368638 ,  0.06217617, -0.12029325,  0.0310463 ,  0.12778106,\n",
      "        -0.08333158, -0.12733749,  0.06339422,  0.10945665,  0.05008077,\n",
      "         0.00765403, -0.07430917,  0.06887046,  0.02961521,  0.1186642 ,\n",
      "        -0.10148481,  0.09079744, -0.0625937 , -0.1022103 , -0.03474952,\n",
      "         0.05180422, -0.10535793, -0.04581499,  0.1198129 ,  0.06530806,\n",
      "         0.07726151,  0.12136852,  0.11426926, -0.03995587,  0.04998773,\n",
      "         0.04217219, -0.03914447, -0.02902483,  0.06413477, -0.00355362,\n",
      "         0.02865103, -0.08716941, -0.11766419, -0.10204359, -0.08749301,\n",
      "        -0.02854194, -0.09559524,  0.05665816, -0.10285513,  0.00532102,\n",
      "        -0.10155264,  0.04097362,  0.09815056, -0.09230899,  0.06942951,\n",
      "         0.00615558,  0.03218668,  0.09023734, -0.07034549,  0.0842903 ,\n",
      "        -0.09584056, -0.03788991,  0.06286736, -0.08307774, -0.0866732 ,\n",
      "        -0.07709937,  0.08335543,  0.03444701,  0.09507124, -0.12870277,\n",
      "        -0.00719412,  0.02439641,  0.05900293, -0.08603874, -0.08203564,\n",
      "         0.05647087, -0.10248059,  0.1254677 , -0.11164513,  0.01457571,\n",
      "         0.06364283, -0.08606009,  0.1263705 ,  0.09522578],\n",
      "       [ 0.01634005,  0.00966308, -0.06996247,  0.11638405,  0.04418515,\n",
      "        -0.12165057,  0.11302173,  0.01568509,  0.05367687,  0.06056697,\n",
      "        -0.07240552,  0.12018312,  0.00030176, -0.05787399,  0.08840313,\n",
      "         0.09839817,  0.09889132,  0.12619212, -0.11998825,  0.04650322,\n",
      "         0.10529565,  0.01975461, -0.06841756,  0.03585466,  0.0953494 ,\n",
      "         0.04681527,  0.03593917, -0.07335181, -0.07929723, -0.02518227,\n",
      "        -0.03382025,  0.08175777,  0.08319087, -0.1162114 , -0.0290231 ,\n",
      "         0.03587511,  0.06300785,  0.0596437 , -0.04987307, -0.05096447,\n",
      "         0.01585143,  0.03804983,  0.11444278, -0.1206798 ,  0.00288375,\n",
      "         0.0648424 , -0.0249097 , -0.03177101, -0.0386229 ,  0.12278498,\n",
      "         0.10925622, -0.05784781, -0.07758272,  0.11430033,  0.0239455 ,\n",
      "        -0.06279527,  0.01870179,  0.02714088, -0.05010956, -0.00370049,\n",
      "        -0.0090304 , -0.02289572,  0.06877159,  0.07758707,  0.10621508,\n",
      "         0.04880728, -0.00281414, -0.06323153, -0.08417485, -0.08665615,\n",
      "         0.1154697 ,  0.1010606 ,  0.08367026,  0.00632065, -0.10174925,\n",
      "         0.09470293, -0.12413098,  0.07508097,  0.03652192, -0.06482742,\n",
      "         0.0078268 , -0.0611302 , -0.00931915, -0.07440011]])\n",
      "np.sum(mu0)=0.9999999999999996\n"
     ]
    },
    {
     "name": "stderr",
     "output_type": "stream",
     "text": [
      "/Users/yizhonghu/anaconda3/lib/python3.8/site-packages/scipy/optimize/_constraints.py:353: OptimizeWarning: Constraint option `keep_feasible` is ignored by this method.\n",
      "  warn(\"Constraint option `keep_feasible` is ignored by this \"\n"
     ]
    },
    {
     "name": "stdout",
     "output_type": "stream",
     "text": [
      "Optimization terminated successfully    (Exit mode 0)\n",
      "            Current function value: -1.7351232932440137\n",
      "            Iterations: 261\n",
      "            Function evaluations: 44750\n",
      "            Gradient evaluations: 261\n",
      "objective_function(mu, beta=beta, B=B, kappa=kappa, C=C)=1.7351232932440137\n",
      "\n",
      "mu=array([[1.51202418e-07, 9.52592086e-07, 2.38440210e-06, 3.15810869e-06,\n",
      "        2.41858575e-06, 9.49955363e-07, 1.59323498e-07, 7.08213773e-06,\n",
      "        3.54112404e-05, 7.07372649e-05, 7.07194527e-05, 3.54245681e-05,\n",
      "        7.05729350e-06, 1.27841758e-07, 6.43481933e-07, 1.27986521e-06,\n",
      "        1.29866437e-06, 6.47270466e-07, 1.25690446e-07, 1.30894441e-04,\n",
      "        5.23054380e-04, 7.84543060e-04, 5.23082919e-04, 1.30740816e-04,\n",
      "        4.77713830e-06, 1.91275618e-05, 2.87414705e-05, 1.91423537e-05,\n",
      "        4.77693266e-06, 4.54681737e-08, 1.75272106e-07, 2.63046581e-07,\n",
      "        1.71373429e-07, 4.43153280e-08, 1.28826171e-03, 3.86494947e-03,\n",
      "        3.86535561e-03, 1.28835662e-03, 7.07338735e-05, 2.12263460e-04,\n",
      "        2.12348566e-04, 7.07935418e-05, 1.29592724e-06, 3.88842157e-06,\n",
      "        3.89294026e-06, 1.28880655e-06, 1.45494967e-08, 3.13185001e-08,\n",
      "        2.78330748e-08, 1.64517906e-08, 7.14120242e-03, 1.42805946e-02,\n",
      "        7.14012367e-03, 5.22981740e-04, 1.04589446e-03, 5.22997428e-04,\n",
      "        1.43310048e-05, 2.87174774e-05, 1.43946383e-05, 1.73053873e-07,\n",
      "        3.42935782e-07, 1.75681287e-07, 1.49644021e-10, 4.14672020e-10,\n",
      "        3.87790435e-10, 2.11040113e-02, 2.11038639e-02, 1.93286051e-03,\n",
      "        1.93272583e-03, 7.07889751e-05, 7.08091073e-05, 1.29050772e-06,\n",
      "        1.29635302e-06, 1.84447230e-08, 9.74696438e-09, 1.03828447e-13,\n",
      "        1.91504236e-10, 2.59928302e-02, 2.85605894e-03, 1.30779184e-04,\n",
      "        3.17467321e-06, 3.85526371e-08, 7.33677004e-10, 1.89774345e-13],\n",
      "       [1.92019182e-01, 2.11031861e-02, 9.66055841e-04, 2.36109248e-05,\n",
      "        3.17048741e-07, 1.24366977e-12, 1.41369859e-13, 1.55925301e-01,\n",
      "        1.42813620e-02, 5.23121128e-04, 9.61940546e-06, 7.82169309e-08,\n",
      "        5.57454843e-13, 1.55932721e-01, 1.42805389e-02, 5.23146036e-04,\n",
      "        9.57873780e-06, 9.21227359e-08, 7.32035030e-13, 5.27669402e-02,\n",
      "        3.86434839e-03, 1.06152476e-04, 1.30688134e-06, 1.06376785e-09,\n",
      "        1.05523141e-01, 7.73103540e-03, 2.12290458e-04, 2.58985935e-06,\n",
      "        1.73196824e-08, 5.27618889e-02, 3.86511542e-03, 1.06373769e-04,\n",
      "        1.29969422e-06, 1.16797456e-09, 9.52529364e-03, 5.23376737e-04,\n",
      "        9.56816652e-06, 5.27807503e-08, 2.85639894e-02, 1.56922013e-03,\n",
      "        2.86778321e-05, 1.81088425e-07, 2.85629777e-02, 1.56953802e-03,\n",
      "        2.87402257e-05, 1.71659946e-07, 9.52078576e-03, 5.23118523e-04,\n",
      "        9.53933973e-06, 5.11576575e-08, 9.66687536e-04, 3.54030631e-05,\n",
      "        3.19173708e-07, 3.86760373e-03, 1.41620376e-04, 1.28827878e-06,\n",
      "        5.79977601e-03, 2.12388884e-04, 1.94099528e-06, 3.86548531e-03,\n",
      "        1.41706286e-04, 1.29657763e-06, 9.66597962e-04, 3.53815284e-05,\n",
      "        3.15175312e-07, 5.22668290e-05, 9.45544718e-07, 2.61550067e-04,\n",
      "        4.78231435e-06, 5.23151576e-04, 9.56125319e-06, 5.23246890e-04,\n",
      "        9.59380192e-06, 2.61519159e-04, 4.78990038e-06, 5.23343845e-05,\n",
      "        9.56119214e-07, 1.16066943e-06, 7.08082428e-06, 1.77423719e-05,\n",
      "        2.35826261e-05, 1.76772407e-05, 7.06123708e-06, 1.17580938e-06]])\n",
      "\n",
      "np.sum(mu)=1.000000000000865\n",
      "\n",
      " edge_distribution=[[[0.00169367 0.09248194]\n",
      "  [0.0125152  0.01251551]]\n",
      "\n",
      " [[0.09248194 0.0924854 ]\n",
      "  [0.01251551 0.68331084]]]\n"
     ]
    }
   ],
   "source": [
    "mu = optimize(beta=1, B=1, kappa=6, verbose=True)"
   ]
  },
  {
   "attachments": {},
   "cell_type": "markdown",
   "metadata": {},
   "source": [
    "### P(X1, X2 | X0)"
   ]
  },
  {
   "cell_type": "code",
   "execution_count": 180,
   "metadata": {},
   "outputs": [
    {
     "name": "stderr",
     "output_type": "stream",
     "text": [
      "/Users/yizhonghu/anaconda3/lib/python3.8/site-packages/scipy/optimize/_constraints.py:353: OptimizeWarning: Constraint option `keep_feasible` is ignored by this method.\n",
      "  warn(\"Constraint option `keep_feasible` is ignored by this \"\n"
     ]
    },
    {
     "name": "stdout",
     "output_type": "stream",
     "text": [
      "mu_edge=array([0.00355234, 0.05249689, 0.19395088, 0.05249677, 0.38790176,\n",
      "       0.0071047 , 0.05249682, 0.19395071, 0.05249676, 0.00355238])\n",
      "leaf_dist=array([[0.00355238, 0.02624838, 0.02624841, 0.00355235],\n",
      "       [0.02624838, 0.19395071, 0.19395088, 0.02624838],\n",
      "       [0.02624841, 0.19395088, 0.19395088, 0.02624845],\n",
      "       [0.00355235, 0.02624838, 0.02624845, 0.00355234]])\n",
      "p_x1=array([0.05960151, 0.44039835, 0.44039861, 0.05960152]) p_x2=array([0.05960151, 0.44039835, 0.44039861, 0.05960152])\n",
      "np.outer(p_x1, p_x2)=array([[0.00355234, 0.02624841, 0.02624842, 0.00355234],\n",
      "       [0.02624841, 0.19395071, 0.19395082, 0.02624841],\n",
      "       [0.02624842, 0.19395082, 0.19395094, 0.02624843],\n",
      "       [0.00355234, 0.02624841, 0.02624843, 0.00355234]])\n"
     ]
    }
   ],
   "source": [
    "C = get_configuration_chart(4, 2)\n",
    "\n",
    "mu = optimize(beta=1, B=0, kappa=2, ftol=1e-10)\n",
    "\n",
    "x0 = 0\n",
    "mu_edge = mu[x0] / np.sum(mu, axis=1)[x0]\n",
    "print(f'{mu_edge=}')\n",
    "leaf_dist = vertex_distribution(mu_edge, kappa=2, C=C)\n",
    "print(f'{leaf_dist=}')\n",
    "p_x1 = np.sum(leaf_dist, axis=1)\n",
    "p_x2 = np.sum(leaf_dist, axis=0)\n",
    "print(f'{p_x1=}', f'{p_x2=}')\n",
    "print(f'{np.outer(p_x1, p_x2)=}')"
   ]
  },
  {
   "cell_type": "code",
   "execution_count": 60,
   "metadata": {},
   "outputs": [
    {
     "name": "stderr",
     "output_type": "stream",
     "text": [
      "/Users/yizhonghu/anaconda3/lib/python3.8/site-packages/scipy/optimize/_constraints.py:353: OptimizeWarning: Constraint option `keep_feasible` is ignored by this method.\n",
      "  warn(\"Constraint option `keep_feasible` is ignored by this \"\n"
     ]
    },
    {
     "data": {
      "text/plain": [
       "(-0.01, 0.11)"
      ]
     },
     "execution_count": 60,
     "metadata": {},
     "output_type": "execute_result"
    },
    {
     "data": {
      "image/png": "[encoded data removed]",
      "text/plain": [
       "<Figure size 432x288 with 1 Axes>"
      ]
     },
     "metadata": {
      "needs_background": "light"
     },
     "output_type": "display_data"
    }
   ],
   "source": [
    "betas = np.linspace(-3, 3, 31)\n",
    "pearson_coeff = []\n",
    "Bs = [-1, -0.1, 0, .1, 1]\n",
    "kappa = 2\n",
    "C = get_configuration_chart(4, kappa)\n",
    "\n",
    "x0 = 0\n",
    "\n",
    "for B, m in zip(Bs, ['o', ':', 'x', '*', '--']):\n",
    "    frob_dists = []\n",
    "\n",
    "    for beta in betas:\n",
    "        mu = optimize(beta=beta, B=B, kappa=2, ftol=1e-10, C=C)\n",
    "\n",
    "        mu_edge = mu[x0] / np.sum(mu, axis=1)[x0]\n",
    "        \n",
    "        leaf_dist = vertex_distribution(mu_edge, kappa=2, C=C)\n",
    "        \n",
    "        p_x1 = np.sum(leaf_dist, axis=1)\n",
    "        p_x2 = np.sum(leaf_dist, axis=0)\n",
    "        indep_dist = np.outer(p_x1, p_x2)\n",
    "\n",
    "        \n",
    "        frob_dists.append(relative_entropy(leaf_dist, indep_dist))\n",
    "        \n",
    "    frob_dists = np.array(frob_dists)\n",
    "\n",
    "    plt.plot(betas, frob_dists, m, label=f'${B=}$')\n",
    "\n",
    "plt.legend()\n",
    "plt.title(f'Correlation strength between $(X_v, Y_{{0v}})$ and $(X_{{v\\'}}, Y_{{0v\\'}})$ given $X_0={2*x0-1}$')\n",
    "plt.xlabel('$\\\\beta$')\n",
    "plt.ylabel('Relative Entropy $H(\\\\nu_\\mu \\| \\check{\\\\nu}_\\mu)$')\n",
    "plt.grid(True)\n",
    "\n",
    "plt.ylim((-.01, 0.11))\n",
    "\n",
    "# plt.savefig(f'../img/EA_x1_x2_RelEntr_x0={2*x0-1}.png')"
   ]
  },
  {
   "attachments": {},
   "cell_type": "markdown",
   "metadata": {},
   "source": [
    "### P(X0) with respect to B"
   ]
  },
  {
   "cell_type": "code",
   "execution_count": 61,
   "metadata": {},
   "outputs": [
    {
     "data": {
      "image/png": "[encoded data removed]",
      "text/plain": [
       "<Figure size 432x288 with 1 Axes>"
      ]
     },
     "metadata": {
      "needs_background": "light"
     },
     "output_type": "display_data"
    }
   ],
   "source": [
    "Bs = np.linspace(-2, 2, 51)\n",
    "betas = [-3, -1, -0.3, 0, 0.3, 1, 3]\n",
    "\n",
    "for beta in betas:\n",
    "    probabilities = []\n",
    "    for B in Bs:\n",
    "        mu = optimize(beta=beta, B=B, kappa=2, ftol=1e-10)\n",
    "        probabilities.append(np.sum(mu[1]))\n",
    "        \n",
    "    plt.plot(Bs, probabilities, label=f'$\\\\beta={beta}$')\n",
    "plt.title('Preference for $X_0$ values')\n",
    "plt.xlabel('$B$')\n",
    "plt.ylabel('$\\mathbb{P}(X_0=1)$')\n",
    "plt.grid(True)\n",
    "plt.legend()\n",
    "plt.savefig('../img/EA_x0_B.png')"
   ]
  },
  {
   "attachments": {},
   "cell_type": "markdown",
   "metadata": {},
   "source": [
    "Assume that we have the form\n",
    "$$\\mu(x_0, \\tau) = e^{\\mathcal{H(x_0, \\tau)}}$$\n",
    "I am guessing that\n",
    "$$\\mu_0(x_0) = \\frac1Ze^{f(\\beta, B)x_0}$$\n",
    "Therefore, plotting\n",
    "$$\\log\\frac{\\mu_0(+)}{1-\\mu_0(+)}$$\n",
    "sounds like a good idea"
   ]
  },
  {
   "cell_type": "code",
   "execution_count": 64,
   "metadata": {},
   "outputs": [
    {
     "name": "stderr",
     "output_type": "stream",
     "text": [
      "  0%|          | 0/31 [00:00<?, ?it/s]"
     ]
    },
    {
     "name": "stderr",
     "output_type": "stream",
     "text": [
      "100%|██████████| 31/31 [00:37<00:00,  1.21s/it]\n",
      "100%|██████████| 31/31 [00:37<00:00,  1.20s/it]\n",
      "100%|██████████| 31/31 [00:31<00:00,  1.03s/it]\n",
      "100%|██████████| 31/31 [00:33<00:00,  1.08s/it]\n",
      "100%|██████████| 31/31 [00:48<00:00,  1.56s/it]\n"
     ]
    }
   ],
   "source": [
    "Bs = np.linspace(-2, 2, 31)\n",
    "kappa = 3\n",
    "betas = [-1, -0.3, 0, 0.3, 1]\n",
    "\n",
    "res = []\n",
    "\n",
    "for beta, m in zip(betas, ['o', ':', 'x', '*', '--']):\n",
    "    probabilities = []\n",
    "    for B in tqdm(Bs):\n",
    "        mu = optimize(beta=beta, B=B, kappa=kappa, ftol=1e-10)\n",
    "        probabilities.append(np.sum(mu[1]))\n",
    "    \n",
    "    res.append(np.array(probabilities))"
   ]
  },
  {
   "cell_type": "code",
   "execution_count": 65,
   "metadata": {},
   "outputs": [
    {
     "data": {
      "image/png": "[encoded data removed]",
      "text/plain": [
       "<Figure size 432x288 with 1 Axes>"
      ]
     },
     "metadata": {
      "needs_background": "light"
     },
     "output_type": "display_data"
    }
   ],
   "source": [
    "for probabilities, beta, m in zip(res, betas, ['o', ':', 'x', '*', '--']):\n",
    "    plt.plot(Bs, np.log(probabilities / (1 - probabilities)), m, label=f'$\\\\beta={beta}$')\n",
    "\n",
    "plt.title(f'Root mark probability $\\\\kappa={kappa}$')\n",
    "plt.xlabel('$B$')\n",
    "plt.ylabel('$\\log(\\mu_0(+) / (1-\\mu_0(+)))$')\n",
    "plt.grid(True)\n",
    "plt.legend()\n",
    "plt.savefig(f'../img/EA_x0_B_logisitic_kappa_{kappa}.png')"
   ]
  },
  {
   "attachments": {},
   "cell_type": "markdown",
   "metadata": {},
   "source": [
    "#### Different $\\kappa$ values"
   ]
  },
  {
   "cell_type": "code",
   "execution_count": 143,
   "metadata": {},
   "outputs": [
    {
     "name": "stdout",
     "output_type": "stream",
     "text": [
      "C=array([[0, 0, 0, 6],\n",
      "       [0, 0, 1, 5],\n",
      "       [0, 0, 2, 4],\n",
      "       [0, 0, 3, 3],\n",
      "       [0, 0, 4, 2],\n",
      "       [0, 0, 5, 1],\n",
      "       [0, 0, 6, 0],\n",
      "       [0, 1, 0, 5],\n",
      "       [0, 1, 1, 4],\n",
      "       [0, 1, 2, 3],\n",
      "       [0, 1, 3, 2],\n",
      "       [0, 1, 4, 1],\n",
      "       [0, 1, 5, 0],\n",
      "       [1, 0, 0, 5],\n",
      "       [1, 0, 1, 4],\n",
      "       [1, 0, 2, 3],\n",
      "       [1, 0, 3, 2],\n",
      "       [1, 0, 4, 1],\n",
      "       [1, 0, 5, 0],\n",
      "       [0, 2, 0, 4],\n",
      "       [0, 2, 1, 3],\n",
      "       [0, 2, 2, 2],\n",
      "       [0, 2, 3, 1],\n",
      "       [0, 2, 4, 0],\n",
      "       [1, 1, 0, 4],\n",
      "       [1, 1, 1, 3],\n",
      "       [1, 1, 2, 2],\n",
      "       [1, 1, 3, 1],\n",
      "       [1, 1, 4, 0],\n",
      "       [2, 0, 0, 4],\n",
      "       [2, 0, 1, 3],\n",
      "       [2, 0, 2, 2],\n",
      "       [2, 0, 3, 1],\n",
      "       [2, 0, 4, 0],\n",
      "       [0, 3, 0, 3],\n",
      "       [0, 3, 1, 2],\n",
      "       [0, 3, 2, 1],\n",
      "       [0, 3, 3, 0],\n",
      "       [1, 2, 0, 3],\n",
      "       [1, 2, 1, 2],\n",
      "       [1, 2, 2, 1],\n",
      "       [1, 2, 3, 0],\n",
      "       [2, 1, 0, 3],\n",
      "       [2, 1, 1, 2],\n",
      "       [2, 1, 2, 1],\n",
      "       [2, 1, 3, 0],\n",
      "       [3, 0, 0, 3],\n",
      "       [3, 0, 1, 2],\n",
      "       [3, 0, 2, 1],\n",
      "       [3, 0, 3, 0],\n",
      "       [0, 4, 0, 2],\n",
      "       [0, 4, 1, 1],\n",
      "       [0, 4, 2, 0],\n",
      "       [1, 3, 0, 2],\n",
      "       [1, 3, 1, 1],\n",
      "       [1, 3, 2, 0],\n",
      "       [2, 2, 0, 2],\n",
      "       [2, 2, 1, 1],\n",
      "       [2, 2, 2, 0],\n",
      "       [3, 1, 0, 2],\n",
      "       [3, 1, 1, 1],\n",
      "       [3, 1, 2, 0],\n",
      "       [4, 0, 0, 2],\n",
      "       [4, 0, 1, 1],\n",
      "       [4, 0, 2, 0],\n",
      "       [0, 5, 0, 1],\n",
      "       [0, 5, 1, 0],\n",
      "       [1, 4, 0, 1],\n",
      "       [1, 4, 1, 0],\n",
      "       [2, 3, 0, 1],\n",
      "       [2, 3, 1, 0],\n",
      "       [3, 2, 0, 1],\n",
      "       [3, 2, 1, 0],\n",
      "       [4, 1, 0, 1],\n",
      "       [4, 1, 1, 0],\n",
      "       [5, 0, 0, 1],\n",
      "       [5, 0, 1, 0],\n",
      "       [0, 6, 0, 0],\n",
      "       [1, 5, 0, 0],\n",
      "       [2, 4, 0, 0],\n",
      "       [3, 3, 0, 0],\n",
      "       [4, 2, 0, 0],\n",
      "       [5, 1, 0, 0],\n",
      "       [6, 0, 0, 0]])\n",
      "beta=1, B=2, kappa=6\n",
      "mu0=array([[0.00012207, 0.00073242, 0.00183105, 0.00244141, 0.00183105,\n",
      "        0.00073242, 0.00012207, 0.00073242, 0.00366211, 0.00732422,\n",
      "        0.00732422, 0.00366211, 0.00073242, 0.00073242, 0.00366211,\n",
      "        0.00732422, 0.00732422, 0.00366211, 0.00073242, 0.00183105,\n",
      "        0.00732422, 0.01098633, 0.00732422, 0.00183105, 0.00366211,\n",
      "        0.01464844, 0.02197266, 0.01464844, 0.00366211, 0.00183105,\n",
      "        0.00732422, 0.01098633, 0.00732422, 0.00183105, 0.00244141,\n",
      "        0.00732422, 0.00732422, 0.00244141, 0.00732422, 0.02197266,\n",
      "        0.02197266, 0.00732422, 0.00732422, 0.02197266, 0.02197266,\n",
      "        0.00732422, 0.00244141, 0.00732422, 0.00732422, 0.00244141,\n",
      "        0.00183105, 0.00366211, 0.00183105, 0.00732422, 0.01464844,\n",
      "        0.00732422, 0.01098633, 0.02197266, 0.01098633, 0.00732422,\n",
      "        0.01464844, 0.00732422, 0.00183105, 0.00366211, 0.00183105,\n",
      "        0.00073242, 0.00073242, 0.00366211, 0.00366211, 0.00732422,\n",
      "        0.00732422, 0.00732422, 0.00732422, 0.00366211, 0.00366211,\n",
      "        0.00073242, 0.00073242, 0.00012207, 0.00073242, 0.00183105,\n",
      "        0.00244141, 0.00183105, 0.00073242, 0.00012207],\n",
      "       [0.00012207, 0.00073242, 0.00183105, 0.00244141, 0.00183105,\n",
      "        0.00073242, 0.00012207, 0.00073242, 0.00366211, 0.00732422,\n",
      "        0.00732422, 0.00366211, 0.00073242, 0.00073242, 0.00366211,\n",
      "        0.00732422, 0.00732422, 0.00366211, 0.00073242, 0.00183105,\n",
      "        0.00732422, 0.01098633, 0.00732422, 0.00183105, 0.00366211,\n",
      "        0.01464844, 0.02197266, 0.01464844, 0.00366211, 0.00183105,\n",
      "        0.00732422, 0.01098633, 0.00732422, 0.00183105, 0.00244141,\n",
      "        0.00732422, 0.00732422, 0.00244141, 0.00732422, 0.02197266,\n",
      "        0.02197266, 0.00732422, 0.00732422, 0.02197266, 0.02197266,\n",
      "        0.00732422, 0.00244141, 0.00732422, 0.00732422, 0.00244141,\n",
      "        0.00183105, 0.00366211, 0.00183105, 0.00732422, 0.01464844,\n",
      "        0.00732422, 0.01098633, 0.02197266, 0.01098633, 0.00732422,\n",
      "        0.01464844, 0.00732422, 0.00183105, 0.00366211, 0.00183105,\n",
      "        0.00073242, 0.00073242, 0.00366211, 0.00366211, 0.00732422,\n",
      "        0.00732422, 0.00732422, 0.00732422, 0.00366211, 0.00366211,\n",
      "        0.00073242, 0.00073242, 0.00012207, 0.00073242, 0.00183105,\n",
      "        0.00244141, 0.00183105, 0.00073242, 0.00012207]])\n"
     ]
    },
    {
     "name": "stderr",
     "output_type": "stream",
     "text": [
      "/Users/yizhonghu/anaconda3/lib/python3.8/site-packages/scipy/optimize/_constraints.py:353: OptimizeWarning: Constraint option `keep_feasible` is ignored by this method.\n",
      "  warn(\"Constraint option `keep_feasible` is ignored by this \"\n"
     ]
    },
    {
     "name": "stdout",
     "output_type": "stream",
     "text": [
      "Iteration limit reached    (Exit mode 9)\n",
      "            Current function value: -2.6105165493722495\n",
      "            Iterations: 100\n",
      "            Function evaluations: 17347\n",
      "            Gradient evaluations: 100\n",
      "objective_function(mu, beta=beta, B=B, kappa=kappa, C=C)=2.6105165493722495\n",
      "\n",
      "mu=array([[4.30172832e-05, 1.85397466e-07, 2.39811504e-06, 3.19520695e-06,\n",
      "        6.65701751e-06, 1.28296014e-08, 9.58133810e-09, 1.61135813e-05,\n",
      "        2.76854463e-05, 6.07518560e-06, 9.16484984e-08, 2.76712122e-07,\n",
      "        1.60204633e-06, 2.94691440e-06, 8.33536504e-07, 5.93769665e-06,\n",
      "        1.54181612e-05, 5.57954744e-09, 4.18739704e-09, 1.03412352e-04,\n",
      "        1.90495315e-04, 9.60875021e-05, 7.19344888e-06, 4.09405332e-06,\n",
      "        5.55888049e-06, 1.13484307e-06, 1.18294163e-06, 5.88666508e-06,\n",
      "        4.95041732e-06, 1.76974684e-07, 8.02948746e-07, 3.91883753e-07,\n",
      "        8.75901297e-09, 4.24539354e-12, 1.00269057e-03, 9.45989248e-04,\n",
      "        2.73175881e-04, 4.92372454e-05, 3.35471835e-05, 3.48754146e-05,\n",
      "        7.39848229e-06, 1.78922841e-07, 8.88106937e-06, 4.65141663e-05,\n",
      "        1.38437688e-06, 3.79078881e-07, 3.57045210e-12, 7.00056392e-12,\n",
      "        7.50683054e-12, 5.08862787e-12, 2.96865136e-03, 1.29662293e-03,\n",
      "        2.97792357e-04, 6.01077207e-05, 8.33554833e-05, 5.56943320e-05,\n",
      "        1.36202378e-05, 1.90904170e-05, 3.32737862e-08, 5.28808610e-07,\n",
      "        2.55847754e-09, 3.30295562e-08, 4.29633374e-12, 5.81196410e-12,\n",
      "        5.30928135e-12, 9.86991842e-03, 2.37596447e-03, 5.63664846e-04,\n",
      "        1.21708568e-04, 4.00835629e-05, 2.17698646e-05, 3.30891614e-07,\n",
      "        5.05711715e-07, 3.83338452e-11, 4.60223410e-12, 4.90689920e-12,\n",
      "        5.41037446e-12, 1.11831158e-02, 2.56247402e-04, 3.72181905e-05,\n",
      "        2.06809299e-06, 2.54933769e-10, 1.17261781e-11, 6.12402832e-12],\n",
      "       [3.95860655e-01, 1.02337071e-02, 1.38994166e-04, 1.77119236e-06,\n",
      "        3.65933191e-06, 2.42920782e-12, 4.82791439e-12, 3.02650394e-01,\n",
      "        8.65217268e-03, 1.20337553e-04, 7.20731651e-07, 1.05007573e-07,\n",
      "        3.64516959e-12, 7.23651950e-02, 7.18068318e-04, 6.92635286e-05,\n",
      "        2.25360166e-07, 8.26041182e-09, 3.72172987e-12, 9.16761247e-02,\n",
      "        1.87073085e-03, 7.53813446e-05, 9.58527608e-06, 3.10067424e-12,\n",
      "        4.61612476e-02, 2.03586740e-03, 2.93829685e-05, 1.19895282e-07,\n",
      "        4.19030324e-12, 5.56268800e-03, 1.11333749e-04, 8.09504338e-07,\n",
      "        4.22984248e-06, 3.29614231e-12, 5.25749197e-03, 2.71945243e-04,\n",
      "        1.74356312e-07, 1.51129919e-08, 1.51853187e-02, 1.04086094e-04,\n",
      "        1.00299955e-06, 1.37961436e-05, 2.33637668e-03, 8.30956349e-05,\n",
      "        8.09069027e-06, 2.27792315e-08, 1.88726051e-04, 1.68168870e-06,\n",
      "        1.59838365e-06, 4.54611959e-09, 1.69682106e-03, 2.61202585e-05,\n",
      "        7.67022161e-07, 2.16236049e-03, 6.24148444e-05, 1.18388305e-07,\n",
      "        1.18045652e-03, 1.17669145e-05, 7.89631134e-06, 6.35683825e-05,\n",
      "        1.48710051e-05, 2.39209657e-07, 4.41018945e-05, 1.87152949e-06,\n",
      "        1.73260408e-06, 1.45104532e-04, 3.43205192e-07, 2.24235334e-04,\n",
      "        1.35806392e-06, 2.44084073e-04, 3.30181690e-07, 4.56530350e-05,\n",
      "        1.05667298e-08, 7.83993287e-06, 2.43082609e-07, 2.63838969e-07,\n",
      "        1.35962527e-06, 3.13622565e-07, 1.35116718e-06, 6.05621894e-06,\n",
      "        1.17414583e-06, 1.10111323e-06, 3.52752198e-06, 8.11842769e-06]])\n",
      "\n",
      "np.sum(mu)=1.0000000034138476\n",
      "\n",
      " edge_distribution=[[[2.75292757e-04 2.65840839e-02]\n",
      "  [1.16326031e-03 4.20358643e-03]]\n",
      "\n",
      " [[2.65840837e-02 1.02515280e-01]\n",
      "  [4.20358654e-03 8.34470830e-01]]]\n"
     ]
    }
   ],
   "source": [
    "kappa = 6\n",
    "B = 2\n",
    "C = get_configuration_chart(4, kappa=kappa)\n",
    "mu = optimize(beta=beta, B=B, kappa=kappa, C=C, ftol=1e-10, verbose=True)"
   ]
  },
  {
   "cell_type": "code",
   "execution_count": 145,
   "metadata": {},
   "outputs": [
    {
     "data": {
      "text/plain": [
       "2.4292078230762447e-12"
      ]
     },
     "execution_count": 145,
     "metadata": {},
     "output_type": "execute_result"
    }
   ],
   "source": [
    "np.min(mu)"
   ]
  },
  {
   "cell_type": "code",
   "execution_count": 139,
   "metadata": {},
   "outputs": [
    {
     "name": "stderr",
     "output_type": "stream",
     "text": [
      "100%|██████████| 31/31 [00:13<00:00,  2.25it/s]\n",
      "100%|██████████| 31/31 [00:38<00:00,  1.25s/it]\n",
      "100%|██████████| 31/31 [01:21<00:00,  2.64s/it]\n",
      "100%|██████████| 31/31 [02:33<00:00,  4.94s/it]\n",
      "100%|██████████| 31/31 [04:39<00:00,  9.02s/it]\n"
     ]
    }
   ],
   "source": [
    "Bs = np.linspace(-2, 2, 31)\n",
    "kappas = [2, 3, 4, 5, 6]\n",
    "beta = 1\n",
    "\n",
    "res = []\n",
    "for kappa, m in zip(kappas, ['o', ':', 'x', '*', '--']):\n",
    "    probabilities = []\n",
    "    for B in tqdm(Bs):\n",
    "        mu = optimize(beta=beta, B=B, kappa=kappa, ftol=1e-10)\n",
    "        probabilities.append(np.sum(mu[1]))\n",
    "        \n",
    "    res.append(probabilities)"
   ]
  },
  {
   "cell_type": "code",
   "execution_count": 146,
   "metadata": {},
   "outputs": [
    {
     "data": {
      "image/png": "[encoded data removed]",
      "text/plain": [
       "<Figure size 432x288 with 1 Axes>"
      ]
     },
     "metadata": {
      "needs_background": "light"
     },
     "output_type": "display_data"
    }
   ],
   "source": [
    "for probabilities, kappa, m in zip(res, kappas, ['o', ':', 'x', '*', '--']):\n",
    "    probabilities = np.array(probabilities)\n",
    "    plt.plot(Bs, np.log(probabilities / (1 - probabilities)), m, label=f'$\\\\kappa={kappa}$')\n",
    "\n",
    "plt.title(f'Marginal distribution on root mark given kappa ($\\\\beta={beta}$)')\n",
    "plt.xlabel('$B$')\n",
    "plt.ylabel('$\\log(\\mu_0(+) / (1-\\mu_0(+)))$')\n",
    "plt.grid(True)\n",
    "plt.legend()\n",
    "plt.savefig('../img/EA_x0_B_logisitic_change_kappa.png')"
   ]
  },
  {
   "cell_type": "code",
   "execution_count": 66,
   "metadata": {},
   "outputs": [
    {
     "data": {
      "text/plain": [
       "array([[1., 1., 2.],\n",
       "       [0., 2., 2.],\n",
       "       [0., 1., 3.]])"
      ]
     },
     "execution_count": 66,
     "metadata": {},
     "output_type": "execute_result"
    }
   ],
   "source": [
    "A = np.eye(3)\n",
    "b = np.arange(3)\n",
    "A + b"
   ]
  }
 ],
 "metadata": {
  "kernelspec": {
   "display_name": "base",
   "language": "python",
   "name": "python3"
  },
  "language_info": {
   "codemirror_mode": {
    "name": "ipython",
    "version": 3
   },
   "file_extension": ".py",
   "mimetype": "text/x-python",
   "name": "python",
   "nbconvert_exporter": "python",
   "pygments_lexer": "ipython3",
   "version": "3.8.3"
  },
  "orig_nbformat": 4
 },
 "nbformat": 4,
 "nbformat_minor": 2
}
