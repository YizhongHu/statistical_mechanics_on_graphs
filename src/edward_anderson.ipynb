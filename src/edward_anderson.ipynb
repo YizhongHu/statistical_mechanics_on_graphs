{
 "cells": [
  {
   "cell_type": "code",
   "execution_count": 1,
   "metadata": {},
   "outputs": [],
   "source": [
    "import numpy as np\n",
    "import matplotlib.pyplot as plt\n",
    "from scipy.optimize import minimize, LinearConstraint, NonlinearConstraint, Bounds\n",
    "import scipy.special\n",
    "from scipy.stats import binom, multinomial\n",
    "from tqdm import tqdm\n",
    "\n",
    "from combinations import combinations_"
   ]
  },
  {
   "cell_type": "code",
   "execution_count": 2,
   "metadata": {},
   "outputs": [
    {
     "name": "stdout",
     "output_type": "stream",
     "text": [
      "C=array([[0, 0, 0, 0, 0, 2],\n",
      "       [0, 0, 0, 0, 1, 1],\n",
      "       [0, 0, 0, 0, 2, 0],\n",
      "       [0, 0, 0, 1, 0, 1],\n",
      "       [0, 0, 0, 1, 1, 0],\n",
      "       [0, 0, 0, 2, 0, 0],\n",
      "       [0, 0, 1, 0, 0, 1],\n",
      "       [0, 0, 1, 0, 1, 0],\n",
      "       [0, 0, 1, 1, 0, 0],\n",
      "       [0, 1, 0, 0, 0, 1],\n",
      "       [0, 1, 0, 0, 1, 0],\n",
      "       [0, 1, 0, 1, 0, 0],\n",
      "       [1, 0, 0, 0, 0, 1],\n",
      "       [1, 0, 0, 0, 1, 0],\n",
      "       [1, 0, 0, 1, 0, 0],\n",
      "       [0, 0, 2, 0, 0, 0],\n",
      "       [0, 1, 1, 0, 0, 0],\n",
      "       [0, 2, 0, 0, 0, 0],\n",
      "       [1, 0, 1, 0, 0, 0],\n",
      "       [1, 1, 0, 0, 0, 0],\n",
      "       [2, 0, 0, 0, 0, 0]])\n",
      "C.shape=(21, 6)\n",
      "eta(kappa, edge_probs)=array([[0.01388889, 0.02777778, 0.01388889, 0.02777778, 0.02777778,\n",
      "        0.01388889, 0.02777778, 0.02777778, 0.02777778, 0.02777778,\n",
      "        0.02777778, 0.02777778, 0.02777778, 0.02777778, 0.02777778,\n",
      "        0.01388889, 0.02777778, 0.01388889, 0.02777778, 0.02777778,\n",
      "        0.01388889],\n",
      "       [0.01388889, 0.02777778, 0.01388889, 0.02777778, 0.02777778,\n",
      "        0.01388889, 0.02777778, 0.02777778, 0.02777778, 0.02777778,\n",
      "        0.02777778, 0.02777778, 0.02777778, 0.02777778, 0.02777778,\n",
      "        0.01388889, 0.02777778, 0.01388889, 0.02777778, 0.02777778,\n",
      "        0.01388889]])\n",
      "edge_distribution(eta)=[[[0.08333333 0.08333333 0.08333333]\n",
      "  [0.08333333 0.08333333 0.08333333]]\n",
      "\n",
      " [[0.08333333 0.08333333 0.08333333]\n",
      "  [0.08333333 0.08333333 0.08333333]]]\n",
      "Hamiltonian(1, 0, edge_states, C)=array([[-1. , -0.5, -0. , -0. ,  0.5,  1. , -0. ,  0.5,  1. , -0.5, -0. ,\n",
      "         0.5, -1. , -0.5, -0. ,  1. ,  0.5, -0. , -0. , -0.5, -1. ],\n",
      "       [ 1. ,  0.5,  0. ,  0. , -0.5, -1. ,  0. , -0.5, -1. ,  0.5,  0. ,\n",
      "        -0.5,  1. ,  0.5,  0. , -1. , -0.5,  0. ,  0. ,  0.5,  1. ]])\n",
      "ver_dist=array([[0.02777778, 0.02777778, 0.02777778, 0.02777778, 0.02777778,\n",
      "        0.02777778],\n",
      "       [0.02777778, 0.02777778, 0.02777778, 0.02777778, 0.02777778,\n",
      "        0.02777778],\n",
      "       [0.02777778, 0.02777778, 0.02777778, 0.02777778, 0.02777778,\n",
      "        0.02777778],\n",
      "       [0.02777778, 0.02777778, 0.02777778, 0.02777778, 0.02777778,\n",
      "        0.02777778],\n",
      "       [0.02777778, 0.02777778, 0.02777778, 0.02777778, 0.02777778,\n",
      "        0.02777778],\n",
      "       [0.02777778, 0.02777778, 0.02777778, 0.02777778, 0.02777778,\n",
      "        0.02777778]])\n",
      "np.sum(ver_dist)=1.0000000000000002\n",
      "edge_vertex_probs=array([0.16666667, 0.16666667, 0.16666667, 0.16666667, 0.16666667,\n",
      "       0.16666667])\n",
      "[[ 3.46944695e-18 -3.46944695e-18  0.00000000e+00  0.00000000e+00\n",
      "  -3.46944695e-18  0.00000000e+00]\n",
      " [-3.46944695e-18 -3.46944695e-18 -3.46944695e-18 -3.46944695e-18\n",
      "  -6.93889390e-18 -3.46944695e-18]\n",
      " [ 0.00000000e+00 -3.46944695e-18  3.46944695e-18  0.00000000e+00\n",
      "  -3.46944695e-18  0.00000000e+00]\n",
      " [ 0.00000000e+00 -3.46944695e-18  0.00000000e+00  3.46944695e-18\n",
      "  -3.46944695e-18  0.00000000e+00]\n",
      " [-3.46944695e-18 -6.93889390e-18 -3.46944695e-18 -3.46944695e-18\n",
      "  -3.46944695e-18 -3.46944695e-18]\n",
      " [ 0.00000000e+00 -3.46944695e-18  0.00000000e+00  0.00000000e+00\n",
      "  -3.46944695e-18  3.46944695e-18]]\n"
     ]
    }
   ],
   "source": [
    "def get_configuration_chart(m, kappa):\n",
    "    '''\n",
    "    Given the edge states, output all the unique configurations they can be\n",
    "    in (Balls and bins problem)\n",
    "    '''\n",
    "    return np.array(combinations_(kappa, m * 2))\n",
    "\n",
    "def eta(kappa, edge_state_probs):\n",
    "    '''\n",
    "    Generate a Bernoulli(1/2) distribution on vertices and edges\n",
    "    '''\n",
    "    conf_chart = get_configuration_chart(len(edge_state_probs), kappa)\n",
    "    return np.vstack([multinomial.pmf(conf_chart, n=kappa, p=np.hstack([edge_state_probs] * 2)/2)/2] * 2)\n",
    "\n",
    "def Hamiltonian(beta, B, edge_states, C):\n",
    "    '''\n",
    "    Generate hamiltonian values corresponding to all unique states\n",
    "    '''\n",
    "    m = len(edge_states)\n",
    "    edge_states = np.array(edge_states)\n",
    "    vertex_spin_sum = (-C[:, :m] + C[:, m:]) @ edge_states\n",
    "    return np.vstack([-beta / 2 * vertex_spin_sum - B,\n",
    "                      beta / 2 * vertex_spin_sum + B])\n",
    "\n",
    "def relative_entropy(p, q):\n",
    "    p_divided_by_q = np.divide(p, q, out=np.ones_like(p), where=(p > 0) & (q > 0))\n",
    "    partial = p * np.log(p_divided_by_q)\n",
    "    return np.sum(partial)\n",
    "\n",
    "def edge_distribution(p, kappa, counts, m):\n",
    "    '''\n",
    "    Joint distribution for a randomly-chosen edge \n",
    "    '''\n",
    "    # return p @ counts / kappa\n",
    "    # Equivalent to p @ counts / kappa, but y_0v and x_v are different axes\n",
    "    return np.stack([p @ counts[:, [i, i+m]] for i in range(m)], axis=-1) / kappa\n",
    "\n",
    "def multinomial_coeff(params):\n",
    "    '''\n",
    "    Calculate the multinomial coefficient\n",
    "    \n",
    "    Inputs:\n",
    "    params: a list, [x1, x2, ..., xk]\n",
    "    \n",
    "    Outputs:\n",
    "    multinomial coefficient {x1 + x2 + ... + xk \\choose x1 x2 ... xk}\n",
    "    '''\n",
    "    if len(params) == 1:\n",
    "        return 1\n",
    "    return scipy.special.binom(sum(params), params[-1]) * multinomial_coeff(params[:-1])\n",
    "\n",
    "def vertex_distribution(p, kappa, C, m):\n",
    "    '''\n",
    "    Joint distribution for all edge-vertex pairs\n",
    "    \n",
    "    Input:\n",
    "    p: 1-d array representing distribution on leaf configurations\n",
    "    \n",
    "    Output:\n",
    "    kappa-d array representing the joint distribution of all edge-vertex pairs\n",
    "    '''\n",
    "    # Get the equivalent configuration for each combined vertex-edge state\n",
    "    def counts(*vertex_marks):\n",
    "        stacked = np.stack(vertex_marks, axis=0)\n",
    "        ks = [np.count_nonzero(stacked == l, axis=0) for l in range(2 * m)]\n",
    "        return np.stack(ks, axis=-1)\n",
    "    ks = np.fromfunction(counts, [2 * m] * kappa)\n",
    "    \n",
    "    # Match the configurations with the ones from configurations list\n",
    "    k_reshaped = ks.reshape((-1, 2 * m))\n",
    "    indices = [(conf == C).all(axis=-1).nonzero()[0][0] for conf in k_reshaped]\n",
    "    \n",
    "    # Calculate probabilities for each one\n",
    "    probabilities = [p[index] / multinomial_coeff(C[index]) for index in indices]\n",
    "    \n",
    "    return np.array(probabilities).reshape((2 * m,) * kappa)\n",
    "\n",
    "def objective_function(mu, beta, B, kappa, C, edge_states, edge_state_probs):\n",
    "    eta_dist = eta(kappa=kappa, edge_state_probs=edge_state_probs)\n",
    "    hamiltonian = Hamiltonian(beta=beta, B=B, C=C, edge_states=edge_states)\n",
    "    exp = np.sum(hamiltonian * mu)\n",
    "    rel_entr = relative_entropy(mu, eta_dist)\n",
    "    \n",
    "    m = len(edge_states)\n",
    "    pi_mu = edge_distribution(mu, kappa=kappa, counts=C, m=m)\n",
    "    pi_eta = edge_distribution(eta_dist, kappa=kappa, counts=C, m=m)\n",
    "    marg_rel_entr = relative_entropy(pi_mu, pi_eta)\n",
    "    return exp - rel_entr + kappa / 2 * marg_rel_entr\n",
    "\n",
    "edge_states = [-1, 0, 1]\n",
    "p = 1/3\n",
    "edge_probs = [.5-.5*p, p, .5-.5*p]\n",
    "m = len(edge_states)\n",
    "kappa = 2\n",
    "\n",
    "C = get_configuration_chart(m, kappa)\n",
    "print(f'{C=}')\n",
    "print(f'{C.shape=}')\n",
    "print(f'{eta(kappa, edge_probs)=}')\n",
    "print(f'edge_distribution(eta)={edge_distribution(eta(kappa, edge_probs), kappa=kappa, counts=C, m=m)}')\n",
    "print(f'{Hamiltonian(1, 0, edge_states, C)=}')\n",
    "ver_dist = vertex_distribution(np.sum(eta(kappa=kappa, edge_state_probs=edge_probs), axis=0), kappa=kappa, C=C, m=m)\n",
    "print(f'{ver_dist=}')\n",
    "print(f'{np.sum(ver_dist)=}')\n",
    "\n",
    "edge_vertex_probs = np.hstack([edge_probs] * 2)/2\n",
    "print(f'{edge_vertex_probs=}')\n",
    "print(f'{np.outer(edge_vertex_probs, edge_vertex_probs) - ver_dist}')"
   ]
  },
  {
   "cell_type": "code",
   "execution_count": 16,
   "metadata": {},
   "outputs": [],
   "source": [
    "def optimize(beta, B, kappa, edge_states, edge_state_probs, mu0=None, C=None, verbose=False, ftol=1e-9, max_iter=1000, project_mu0=False):\n",
    "    m = len(edge_states)\n",
    "    assert len(edge_state_probs) == m    \n",
    "    if C is None:\n",
    "        C = get_configuration_chart(m, kappa)\n",
    "    if verbose:\n",
    "        # print(f'{C=}')\n",
    "        pass\n",
    "    num_configurations = len(C)\n",
    "    \n",
    "    eta_dist = eta(kappa=kappa, edge_state_probs=edge_state_probs)\n",
    "    bounds = Bounds(np.zeros_like(eta_dist.flatten()), np.ones_like(eta_dist.flatten()))\n",
    "    norm_constraint = LinearConstraint(np.ones_like(eta_dist.flatten()), 1, 1)\n",
    "    admissibility_linear = np.block([[-C[:, y_ind + m], C[:, y_ind]] for y_ind in range(m)]) / kappa\n",
    "    admissibility_constraint = LinearConstraint(admissibility_linear, lb=0, ub=0)\n",
    "    \n",
    "    if mu0 is None:\n",
    "        mu0 = np.random.uniform(-1, 1, size=eta_dist.shape)\n",
    "        mu0 = mu0 / np.sum(mu0)\n",
    "        # Project onto the closest point on the probability simplex\n",
    "        if project_mu0:\n",
    "            res = minimize(lambda mu: np.sum((mu - mu0.flatten())** 2) / 2, x0=mu0.flatten(), \n",
    "                        method='trust-constr', \n",
    "                        constraints=[norm_constraint, admissibility_constraint], \n",
    "                        bounds=bounds)\n",
    "            mu0 = res.x.reshape(2, -1)\n",
    "            if not res.success:\n",
    "                print('optimization unsuccessfull')\n",
    "                print(res)\n",
    "    \n",
    "    if verbose:\n",
    "        print(f'{beta=}, {B=}, {kappa=}\\n{mu0=}\\n{np.sum(mu0)=}')\n",
    "    \n",
    "    res = minimize(lambda mu: -objective_function(mu.reshape(2, num_configurations), beta=beta, B=B, kappa=kappa, C=C, \n",
    "                                                  edge_state_probs=edge_state_probs, edge_states=edge_states),\n",
    "                   x0=mu0.flatten(), method='SLSQP', \n",
    "                   constraints=[norm_constraint, admissibility_constraint],\n",
    "                   bounds=bounds,\n",
    "                   options={'ftol': ftol, 'disp': verbose, 'maxiter': max_iter})\n",
    "    \n",
    "    mu = res.x.reshape(2, num_configurations)\n",
    "    \n",
    "    if verbose:\n",
    "        print(f'objective={objective_function(mu, beta=beta, B=B, kappa=kappa, C=C, edge_states=edge_states, edge_state_probs=edge_state_probs)}\\n')\n",
    "        print(f'mu={mu}\\n\\n{np.sum(mu)=}\\n\\n edge_distribution={edge_distribution(mu, kappa=kappa, counts=C, m=m)}')\n",
    "    \n",
    "    return mu"
   ]
  },
  {
   "cell_type": "code",
   "execution_count": 123,
   "metadata": {},
   "outputs": [
    {
     "name": "stdout",
     "output_type": "stream",
     "text": [
      "[[0 0 0 0 0 2]\n",
      " [0 0 0 0 1 1]\n",
      " [0 0 0 0 2 0]\n",
      " [0 0 0 1 0 1]\n",
      " [0 0 0 1 1 0]\n",
      " [0 0 0 2 0 0]\n",
      " [0 0 1 0 0 1]\n",
      " [0 0 1 0 1 0]\n",
      " [0 0 1 1 0 0]\n",
      " [0 1 0 0 0 1]\n",
      " [0 1 0 0 1 0]\n",
      " [0 1 0 1 0 0]\n",
      " [1 0 0 0 0 1]\n",
      " [1 0 0 0 1 0]\n",
      " [1 0 0 1 0 0]\n",
      " [0 0 2 0 0 0]\n",
      " [0 1 1 0 0 0]\n",
      " [0 2 0 0 0 0]\n",
      " [1 0 1 0 0 0]\n",
      " [1 1 0 0 0 0]\n",
      " [2 0 0 0 0 0]]\n",
      "0.24022901283604836\n",
      "0.24022901292729765\n"
     ]
    }
   ],
   "source": [
    "# 3 States\n",
    "edge_states = [-1, 0, 1]\n",
    "p = 1/2\n",
    "edge_probs = [.5-.5*p, p, .5-.5*p]\n",
    "\n",
    "# 4 States\n",
    "# edge_states = [-3, -1, 1, 3]\n",
    "# p = 1/5\n",
    "# edge_probs = [.5-p, p, p, .5-p]\n",
    "\n",
    "# 5 States\n",
    "# edge_states = [-2, -1, 0, 1, 2]\n",
    "# p = 3/8\n",
    "# q = 2/8\n",
    "# edge_probs = [.5-.5*p-q, q, p, q, .5-.5*p-q]\n",
    "\n",
    "# 6 States\n",
    "# edge_states = [-5, -3, -1, 1, 3, 5]\n",
    "# p = 3/8\n",
    "# q = 2/8\n",
    "# edge_probs = [.5 - p - q, q, p, p, q, .5 - p - q]\n",
    "\n",
    "m = len(edge_states)\n",
    "C = get_configuration_chart(m, 2)\n",
    "print(C)\n",
    "\n",
    "mu1 = optimize(beta=1, B=0, kappa=2, \n",
    "              edge_states=edge_states,\n",
    "              edge_state_probs=edge_probs,\n",
    "              verbose=False)\n",
    "print(objective_function(mu1, 1, 0, 2, C, edge_states, edge_probs))\n",
    "mu2 = optimize(beta=1, B=0, kappa=2, \n",
    "              edge_states=edge_states,\n",
    "              edge_state_probs=edge_probs,\n",
    "              verbose=False)\n",
    "print(objective_function(mu2, 1, 0, 2, C, edge_states, edge_probs))"
   ]
  },
  {
   "cell_type": "code",
   "execution_count": 124,
   "metadata": {},
   "outputs": [
    {
     "data": {
      "text/plain": [
       "<matplotlib.colorbar.Colorbar at 0x7f88a8f5a760>"
      ]
     },
     "execution_count": 124,
     "metadata": {},
     "output_type": "execute_result"
    },
    {
     "data": {
      "image/png": "[encoded data removed]",
      "text/plain": [
       "<Figure size 2520x288 with 3 Axes>"
      ]
     },
     "metadata": {
      "needs_background": "light"
     },
     "output_type": "display_data"
    }
   ],
   "source": [
    "fig, (ax1, ax2) = plt.subplots(2, 1, figsize=(35, 4))\n",
    "im1 = ax1.imshow(mu1, extent=[0, 2 * mu1.shape[1], 0, 4])\n",
    "for i in range(mu1.shape[0]):\n",
    "    for j in range(mu1.shape[1]):\n",
    "        text = ax1.text(2*j+1, 4 - (2*i+1), f'{mu1[i, j]:.3f}',\n",
    "                       ha=\"center\", va=\"center\", color=\"w\")\n",
    "im2 = ax2.imshow(mu2, extent=[0, 2 * mu1.shape[1], 0, 4])\n",
    "for i in range(mu2.shape[0]):\n",
    "    for j in range(mu2.shape[1]):\n",
    "        text = ax2.text(2*j+1, 4 - (2*i+1), f'{mu2[i, j]:.3f}',\n",
    "                       ha=\"center\", va=\"center\", color=\"w\")\n",
    "fig.colorbar(im1, ax=[ax1, ax2])"
   ]
  },
  {
   "attachments": {},
   "cell_type": "markdown",
   "metadata": {},
   "source": [
    "### P(X1, X2 | X0)"
   ]
  },
  {
   "cell_type": "code",
   "execution_count": 8,
   "metadata": {},
   "outputs": [
    {
     "name": "stderr",
     "output_type": "stream",
     "text": [
      "/Users/yizhonghu/anaconda3/lib/python3.8/site-packages/scipy/optimize/_constraints.py:353: OptimizeWarning: Constraint option `keep_feasible` is ignored by this method.\n",
      "  warn(\"Constraint option `keep_feasible` is ignored by this \"\n"
     ]
    },
    {
     "name": "stdout",
     "output_type": "stream",
     "text": [
      "mu_edge=array([0.00202609, 0.01101651, 0.014972  , 0.02994642, 0.08140157,\n",
      "       0.11063637, 0.02994611, 0.08140251, 0.22127417, 0.01101563,\n",
      "       0.02994532, 0.08140116, 0.00405286, 0.0110165 , 0.02994588,\n",
      "       0.11063871, 0.08140145, 0.01497278, 0.02994625, 0.01101548,\n",
      "       0.00202621])\n",
      "leaf_dist=array([[0.00202621, 0.00550774, 0.01497313, 0.01497294, 0.00550825,\n",
      "        0.00202643],\n",
      "       [0.00550774, 0.01497278, 0.04070073, 0.04070058, 0.01497266,\n",
      "        0.00550781],\n",
      "       [0.01497313, 0.04070073, 0.11063871, 0.11063709, 0.04070126,\n",
      "        0.01497305],\n",
      "       [0.01497294, 0.04070058, 0.11063709, 0.11063637, 0.04070079,\n",
      "        0.01497321],\n",
      "       [0.00550825, 0.01497266, 0.04070126, 0.04070079, 0.014972  ,\n",
      "        0.00550826],\n",
      "       [0.00202643, 0.00550781, 0.01497305, 0.01497321, 0.00550826,\n",
      "        0.00202609]])\n",
      "p_x1=array([0.0450147 , 0.12236231, 0.33262396, 0.33262097, 0.12236321,\n",
      "       0.04501486])\n",
      "p_x2=array([0.0450147 , 0.12236231, 0.33262396, 0.33262097, 0.12236321,\n",
      "       0.04501486])\n",
      "np.outer(p_x1, p_x2)=array([[0.00202632, 0.0055081 , 0.01497297, 0.01497283, 0.00550814,\n",
      "        0.00202633],\n",
      "       [0.0055081 , 0.01497253, 0.04070063, 0.04070027, 0.01497264,\n",
      "        0.00550812],\n",
      "       [0.01497297, 0.04070063, 0.1106387 , 0.1106377 , 0.04070094,\n",
      "        0.01497302],\n",
      "       [0.01497283, 0.04070027, 0.1106377 , 0.11063671, 0.04070057,\n",
      "        0.01497289],\n",
      "       [0.00550814, 0.01497264, 0.04070094, 0.04070057, 0.01497276,\n",
      "        0.00550816],\n",
      "       [0.00202633, 0.00550812, 0.01497302, 0.01497289, 0.00550816,\n",
      "        0.00202634]])\n"
     ]
    }
   ],
   "source": [
    "edge_states = [-1, 0, 1]\n",
    "p = 1/3\n",
    "edge_probs = [.5-.5*p, p, .5-.5*p]\n",
    "kappa = 2\n",
    "m = len(edge_states)\n",
    "\n",
    "C = get_configuration_chart(m, kappa)\n",
    "\n",
    "mu = optimize(beta=1, B=0, kappa=2, ftol=1e-10, edge_states=edge_states, edge_state_probs=edge_probs, C=C)\n",
    "\n",
    "x0 = 0\n",
    "mu_edge = mu[x0] / np.sum(mu, axis=1)[x0]\n",
    "print(f'{mu_edge=}')\n",
    "leaf_dist = vertex_distribution(mu_edge, kappa=kappa, C=C, m=m)\n",
    "leaf_dist = np.sum(leaf_dist, axis=tuple(range(2, kappa)))\n",
    "print(f'{leaf_dist=}')\n",
    "p_x1 = np.sum(leaf_dist, axis=1)\n",
    "p_x2 = np.sum(leaf_dist, axis=0)\n",
    "print(f'{p_x1=}\\n{p_x2=}')\n",
    "print(f'{np.outer(p_x1, p_x2)=}')"
   ]
  },
  {
   "cell_type": "code",
   "execution_count": 13,
   "metadata": {},
   "outputs": [
    {
     "name": "stderr",
     "output_type": "stream",
     "text": [
      "100%|██████████| 31/31 [06:53<00:00, 13.34s/it]\n",
      "100%|██████████| 31/31 [06:45<00:00, 13.08s/it]\n",
      "100%|██████████| 31/31 [05:45<00:00, 11.15s/it]\n",
      "100%|██████████| 31/31 [07:50<00:00, 15.17s/it]\n",
      "100%|██████████| 31/31 [09:21<00:00, 18.11s/it]\n"
     ]
    }
   ],
   "source": [
    "betas = np.linspace(-3, 3, 31)\n",
    "pearson_coeff = []\n",
    "Bs = [-1, -0.1, 0, .1, 1]\n",
    "\n",
    "edge_states = [-2, -1, 0, 1, -2]\n",
    "p = 3/8\n",
    "q = 1/4\n",
    "edge_probs = [.5-.5*p-q, q, p, q, .5-.5*p-q]\n",
    "kappa = 2\n",
    "num_states = len(edge_states)\n",
    "C = get_configuration_chart(num_states, kappa)\n",
    "\n",
    "x0 = 1\n",
    "\n",
    "res = []\n",
    "\n",
    "for B, m in zip(Bs, ['o', ':', 'x', '*', '--']):\n",
    "    mutual_info = []\n",
    "\n",
    "    for beta in tqdm(betas):\n",
    "        mu = optimize(beta=beta, B=B, kappa=kappa, ftol=1e-10, C=C,\n",
    "                      edge_states=edge_states, \n",
    "                      edge_state_probs=edge_probs)\n",
    "\n",
    "        mu_edge = mu[x0] / np.sum(mu, axis=1)[x0]\n",
    "        \n",
    "        leaf_dist = vertex_distribution(mu_edge, kappa=kappa, C=C, m=num_states)\n",
    "        leaf_dist = np.sum(leaf_dist, axis=tuple(range(2, kappa)))\n",
    "        \n",
    "        p_x1 = np.sum(leaf_dist, axis=1)\n",
    "        p_x2 = np.sum(leaf_dist, axis=0)\n",
    "        indep_dist = np.outer(p_x1, p_x2)\n",
    "\n",
    "        mutual_info.append(relative_entropy(leaf_dist, indep_dist))\n",
    "        \n",
    "    mutual_entropy = np.array(mutual_info)\n",
    "    res.append(mutual_info)"
   ]
  },
  {
   "cell_type": "code",
   "execution_count": 14,
   "metadata": {},
   "outputs": [
    {
     "data": {
      "image/png": "[encoded data removed]",
      "text/plain": [
       "<Figure size 432x288 with 1 Axes>"
      ]
     },
     "metadata": {
      "needs_background": "light"
     },
     "output_type": "display_data"
    }
   ],
   "source": [
    "for B, mutual_info, m in zip(Bs, res, ['o', ':', 'x', '*', '--']):\n",
    "    plt.plot(betas, mutual_info, m, label=f'${B=}$')\n",
    "\n",
    "    plt.legend()\n",
    "    plt.title(f'Conditional Independence given $X_0={2*x0-1}$ ($p={p:.3f}$, $q={q=:.3f}$)')\n",
    "    plt.xlabel('$\\\\beta$')\n",
    "    plt.ylabel('Mutual Information $I(X_v, Y_{{0v}}; X_{{v\\'}}, Y_{{0v\\'}} | X_0)$')\n",
    "    plt.grid(True)\n",
    "\n",
    "    plt.ylim((-.01, 0.11))\n",
    "\n",
    "    plt.savefig(f'../img/EA_x1_x2_x0={2*x0-1}_5s_{p=:.2f}_{q=:.2f}_{kappa=}.png')"
   ]
  },
  {
   "attachments": {},
   "cell_type": "markdown",
   "metadata": {},
   "source": [
    "### P(X0) with respect to B"
   ]
  },
  {
   "cell_type": "code",
   "execution_count": 61,
   "metadata": {},
   "outputs": [
    {
     "data": {
      "image/png": "[encoded data removed]",
      "text/plain": [
       "<Figure size 432x288 with 1 Axes>"
      ]
     },
     "metadata": {
      "needs_background": "light"
     },
     "output_type": "display_data"
    }
   ],
   "source": [
    "Bs = np.linspace(-2, 2, 51)\n",
    "betas = [-3, -1, -0.3, 0, 0.3, 1, 3]\n",
    "\n",
    "for beta in betas:\n",
    "    probabilities = []\n",
    "    for B in Bs:\n",
    "        mu = optimize(beta=beta, B=B, kappa=2, ftol=1e-10)\n",
    "        probabilities.append(np.sum(mu[1]))\n",
    "        \n",
    "    plt.plot(Bs, probabilities, label=f'$\\\\beta={beta}$')\n",
    "plt.title('Preference for $X_0$ values')\n",
    "plt.xlabel('$B$')\n",
    "plt.ylabel('$\\mathbb{P}(X_0=1)$')\n",
    "plt.grid(True)\n",
    "plt.legend()\n",
    "plt.savefig('../img/EA_x0_B.png')"
   ]
  },
  {
   "attachments": {},
   "cell_type": "markdown",
   "metadata": {},
   "source": [
    "Assume that we have the form\n",
    "$$\\mu(x_0, \\tau) = e^{\\mathcal{H(x_0, \\tau)}}$$\n",
    "I am guessing that\n",
    "$$\\mu_0(x_0) = \\frac1Ze^{f(\\beta, B)x_0}$$\n",
    "Therefore, plotting\n",
    "$$\\log\\frac{\\mu_0(+)}{1-\\mu_0(+)}$$\n",
    "sounds like a good idea"
   ]
  },
  {
   "cell_type": "code",
   "execution_count": 17,
   "metadata": {},
   "outputs": [
    {
     "name": "stderr",
     "output_type": "stream",
     "text": [
      "100%|██████████| 31/31 [51:55<00:00, 100.51s/it]\n",
      "100%|██████████| 31/31 [37:42<00:00, 72.97s/it]\n",
      "100%|██████████| 31/31 [37:02<00:00, 71.70s/it]\n",
      "100%|██████████| 31/31 [33:41<00:00, 65.22s/it]\n",
      "100%|██████████| 31/31 [33:24<00:00, 64.65s/it]\n"
     ]
    }
   ],
   "source": [
    "Bs = np.linspace(-2, 2, 31)\n",
    "betas = [-1, -.1, 0, 0.1, 1]\n",
    "\n",
    "edge_states = [-1, 0, 1]\n",
    "p = 1/2\n",
    "edge_probs = [.5-.5*p, p, .5-.5*p]\n",
    "kappa = 4\n",
    "num_states = len(edge_states)\n",
    "C = get_configuration_chart(num_states, kappa)\n",
    "\n",
    "res = []\n",
    "\n",
    "for beta, m in zip(betas, ['o', ':', 'x', '*', '--']):\n",
    "    probabilities = []\n",
    "    for B in tqdm(Bs):\n",
    "        mu = optimize(beta=beta, B=B, kappa=kappa, ftol=1e-10, C=C,\n",
    "                      edge_states=edge_states, \n",
    "                      edge_state_probs=edge_probs)\n",
    "        probabilities.append(np.sum(mu[1]))\n",
    "    \n",
    "    res.append(np.array(probabilities))"
   ]
  },
  {
   "cell_type": "code",
   "execution_count": 18,
   "metadata": {},
   "outputs": [
    {
     "data": {
      "image/png": "[encoded data removed]",
      "text/plain": [
       "<Figure size 432x288 with 1 Axes>"
      ]
     },
     "metadata": {
      "needs_background": "light"
     },
     "output_type": "display_data"
    }
   ],
   "source": [
    "for probabilities, beta, m in zip(res, betas, ['o', ':', 'x', '*', '--']):\n",
    "    plt.plot(Bs, np.log(probabilities / (1 - probabilities)), m, label=f'$\\\\beta={beta}$')\n",
    "\n",
    "plt.title(f'Root mark probability $\\\\kappa={kappa}$, {len(edge_states)} edge states, $p={p:.3f}$')\n",
    "plt.xlabel('$B$')\n",
    "plt.ylabel('$\\log(\\mu_0(+) / (1-\\mu_0(+)))$')\n",
    "plt.grid(True)\n",
    "plt.legend()\n",
    "plt.savefig(f'../img/EA_x0_B_logi_kappa_{kappa}_{len(edge_states)}s_{p=:.2f}_symF.png')"
   ]
  },
  {
   "attachments": {},
   "cell_type": "markdown",
   "metadata": {},
   "source": [
    "#### Different $\\kappa$ values"
   ]
  },
  {
   "cell_type": "code",
   "execution_count": 143,
   "metadata": {},
   "outputs": [
    {
     "name": "stdout",
     "output_type": "stream",
     "text": [
      "C=array([[0, 0, 0, 6],\n",
      "       [0, 0, 1, 5],\n",
      "       [0, 0, 2, 4],\n",
      "       [0, 0, 3, 3],\n",
      "       [0, 0, 4, 2],\n",
      "       [0, 0, 5, 1],\n",
      "       [0, 0, 6, 0],\n",
      "       [0, 1, 0, 5],\n",
      "       [0, 1, 1, 4],\n",
      "       [0, 1, 2, 3],\n",
      "       [0, 1, 3, 2],\n",
      "       [0, 1, 4, 1],\n",
      "       [0, 1, 5, 0],\n",
      "       [1, 0, 0, 5],\n",
      "       [1, 0, 1, 4],\n",
      "       [1, 0, 2, 3],\n",
      "       [1, 0, 3, 2],\n",
      "       [1, 0, 4, 1],\n",
      "       [1, 0, 5, 0],\n",
      "       [0, 2, 0, 4],\n",
      "       [0, 2, 1, 3],\n",
      "       [0, 2, 2, 2],\n",
      "       [0, 2, 3, 1],\n",
      "       [0, 2, 4, 0],\n",
      "       [1, 1, 0, 4],\n",
      "       [1, 1, 1, 3],\n",
      "       [1, 1, 2, 2],\n",
      "       [1, 1, 3, 1],\n",
      "       [1, 1, 4, 0],\n",
      "       [2, 0, 0, 4],\n",
      "       [2, 0, 1, 3],\n",
      "       [2, 0, 2, 2],\n",
      "       [2, 0, 3, 1],\n",
      "       [2, 0, 4, 0],\n",
      "       [0, 3, 0, 3],\n",
      "       [0, 3, 1, 2],\n",
      "       [0, 3, 2, 1],\n",
      "       [0, 3, 3, 0],\n",
      "       [1, 2, 0, 3],\n",
      "       [1, 2, 1, 2],\n",
      "       [1, 2, 2, 1],\n",
      "       [1, 2, 3, 0],\n",
      "       [2, 1, 0, 3],\n",
      "       [2, 1, 1, 2],\n",
      "       [2, 1, 2, 1],\n",
      "       [2, 1, 3, 0],\n",
      "       [3, 0, 0, 3],\n",
      "       [3, 0, 1, 2],\n",
      "       [3, 0, 2, 1],\n",
      "       [3, 0, 3, 0],\n",
      "       [0, 4, 0, 2],\n",
      "       [0, 4, 1, 1],\n",
      "       [0, 4, 2, 0],\n",
      "       [1, 3, 0, 2],\n",
      "       [1, 3, 1, 1],\n",
      "       [1, 3, 2, 0],\n",
      "       [2, 2, 0, 2],\n",
      "       [2, 2, 1, 1],\n",
      "       [2, 2, 2, 0],\n",
      "       [3, 1, 0, 2],\n",
      "       [3, 1, 1, 1],\n",
      "       [3, 1, 2, 0],\n",
      "       [4, 0, 0, 2],\n",
      "       [4, 0, 1, 1],\n",
      "       [4, 0, 2, 0],\n",
      "       [0, 5, 0, 1],\n",
      "       [0, 5, 1, 0],\n",
      "       [1, 4, 0, 1],\n",
      "       [1, 4, 1, 0],\n",
      "       [2, 3, 0, 1],\n",
      "       [2, 3, 1, 0],\n",
      "       [3, 2, 0, 1],\n",
      "       [3, 2, 1, 0],\n",
      "       [4, 1, 0, 1],\n",
      "       [4, 1, 1, 0],\n",
      "       [5, 0, 0, 1],\n",
      "       [5, 0, 1, 0],\n",
      "       [0, 6, 0, 0],\n",
      "       [1, 5, 0, 0],\n",
      "       [2, 4, 0, 0],\n",
      "       [3, 3, 0, 0],\n",
      "       [4, 2, 0, 0],\n",
      "       [5, 1, 0, 0],\n",
      "       [6, 0, 0, 0]])\n",
      "beta=1, B=2, kappa=6\n",
      "mu0=array([[0.00012207, 0.00073242, 0.00183105, 0.00244141, 0.00183105,\n",
      "        0.00073242, 0.00012207, 0.00073242, 0.00366211, 0.00732422,\n",
      "        0.00732422, 0.00366211, 0.00073242, 0.00073242, 0.00366211,\n",
      "        0.00732422, 0.00732422, 0.00366211, 0.00073242, 0.00183105,\n",
      "        0.00732422, 0.01098633, 0.00732422, 0.00183105, 0.00366211,\n",
      "        0.01464844, 0.02197266, 0.01464844, 0.00366211, 0.00183105,\n",
      "        0.00732422, 0.01098633, 0.00732422, 0.00183105, 0.00244141,\n",
      "        0.00732422, 0.00732422, 0.00244141, 0.00732422, 0.02197266,\n",
      "        0.02197266, 0.00732422, 0.00732422, 0.02197266, 0.02197266,\n",
      "        0.00732422, 0.00244141, 0.00732422, 0.00732422, 0.00244141,\n",
      "        0.00183105, 0.00366211, 0.00183105, 0.00732422, 0.01464844,\n",
      "        0.00732422, 0.01098633, 0.02197266, 0.01098633, 0.00732422,\n",
      "        0.01464844, 0.00732422, 0.00183105, 0.00366211, 0.00183105,\n",
      "        0.00073242, 0.00073242, 0.00366211, 0.00366211, 0.00732422,\n",
      "        0.00732422, 0.00732422, 0.00732422, 0.00366211, 0.00366211,\n",
      "        0.00073242, 0.00073242, 0.00012207, 0.00073242, 0.00183105,\n",
      "        0.00244141, 0.00183105, 0.00073242, 0.00012207],\n",
      "       [0.00012207, 0.00073242, 0.00183105, 0.00244141, 0.00183105,\n",
      "        0.00073242, 0.00012207, 0.00073242, 0.00366211, 0.00732422,\n",
      "        0.00732422, 0.00366211, 0.00073242, 0.00073242, 0.00366211,\n",
      "        0.00732422, 0.00732422, 0.00366211, 0.00073242, 0.00183105,\n",
      "        0.00732422, 0.01098633, 0.00732422, 0.00183105, 0.00366211,\n",
      "        0.01464844, 0.02197266, 0.01464844, 0.00366211, 0.00183105,\n",
      "        0.00732422, 0.01098633, 0.00732422, 0.00183105, 0.00244141,\n",
      "        0.00732422, 0.00732422, 0.00244141, 0.00732422, 0.02197266,\n",
      "        0.02197266, 0.00732422, 0.00732422, 0.02197266, 0.02197266,\n",
      "        0.00732422, 0.00244141, 0.00732422, 0.00732422, 0.00244141,\n",
      "        0.00183105, 0.00366211, 0.00183105, 0.00732422, 0.01464844,\n",
      "        0.00732422, 0.01098633, 0.02197266, 0.01098633, 0.00732422,\n",
      "        0.01464844, 0.00732422, 0.00183105, 0.00366211, 0.00183105,\n",
      "        0.00073242, 0.00073242, 0.00366211, 0.00366211, 0.00732422,\n",
      "        0.00732422, 0.00732422, 0.00732422, 0.00366211, 0.00366211,\n",
      "        0.00073242, 0.00073242, 0.00012207, 0.00073242, 0.00183105,\n",
      "        0.00244141, 0.00183105, 0.00073242, 0.00012207]])\n"
     ]
    },
    {
     "name": "stderr",
     "output_type": "stream",
     "text": [
      "/Users/yizhonghu/anaconda3/lib/python3.8/site-packages/scipy/optimize/_constraints.py:353: OptimizeWarning: Constraint option `keep_feasible` is ignored by this method.\n",
      "  warn(\"Constraint option `keep_feasible` is ignored by this \"\n"
     ]
    },
    {
     "name": "stdout",
     "output_type": "stream",
     "text": [
      "Iteration limit reached    (Exit mode 9)\n",
      "            Current function value: -2.6105165493722495\n",
      "            Iterations: 100\n",
      "            Function evaluations: 17347\n",
      "            Gradient evaluations: 100\n",
      "objective_function(mu, beta=beta, B=B, kappa=kappa, C=C)=2.6105165493722495\n",
      "\n",
      "mu=array([[4.30172832e-05, 1.85397466e-07, 2.39811504e-06, 3.19520695e-06,\n",
      "        6.65701751e-06, 1.28296014e-08, 9.58133810e-09, 1.61135813e-05,\n",
      "        2.76854463e-05, 6.07518560e-06, 9.16484984e-08, 2.76712122e-07,\n",
      "        1.60204633e-06, 2.94691440e-06, 8.33536504e-07, 5.93769665e-06,\n",
      "        1.54181612e-05, 5.57954744e-09, 4.18739704e-09, 1.03412352e-04,\n",
      "        1.90495315e-04, 9.60875021e-05, 7.19344888e-06, 4.09405332e-06,\n",
      "        5.55888049e-06, 1.13484307e-06, 1.18294163e-06, 5.88666508e-06,\n",
      "        4.95041732e-06, 1.76974684e-07, 8.02948746e-07, 3.91883753e-07,\n",
      "        8.75901297e-09, 4.24539354e-12, 1.00269057e-03, 9.45989248e-04,\n",
      "        2.73175881e-04, 4.92372454e-05, 3.35471835e-05, 3.48754146e-05,\n",
      "        7.39848229e-06, 1.78922841e-07, 8.88106937e-06, 4.65141663e-05,\n",
      "        1.38437688e-06, 3.79078881e-07, 3.57045210e-12, 7.00056392e-12,\n",
      "        7.50683054e-12, 5.08862787e-12, 2.96865136e-03, 1.29662293e-03,\n",
      "        2.97792357e-04, 6.01077207e-05, 8.33554833e-05, 5.56943320e-05,\n",
      "        1.36202378e-05, 1.90904170e-05, 3.32737862e-08, 5.28808610e-07,\n",
      "        2.55847754e-09, 3.30295562e-08, 4.29633374e-12, 5.81196410e-12,\n",
      "        5.30928135e-12, 9.86991842e-03, 2.37596447e-03, 5.63664846e-04,\n",
      "        1.21708568e-04, 4.00835629e-05, 2.17698646e-05, 3.30891614e-07,\n",
      "        5.05711715e-07, 3.83338452e-11, 4.60223410e-12, 4.90689920e-12,\n",
      "        5.41037446e-12, 1.11831158e-02, 2.56247402e-04, 3.72181905e-05,\n",
      "        2.06809299e-06, 2.54933769e-10, 1.17261781e-11, 6.12402832e-12],\n",
      "       [3.95860655e-01, 1.02337071e-02, 1.38994166e-04, 1.77119236e-06,\n",
      "        3.65933191e-06, 2.42920782e-12, 4.82791439e-12, 3.02650394e-01,\n",
      "        8.65217268e-03, 1.20337553e-04, 7.20731651e-07, 1.05007573e-07,\n",
      "        3.64516959e-12, 7.23651950e-02, 7.18068318e-04, 6.92635286e-05,\n",
      "        2.25360166e-07, 8.26041182e-09, 3.72172987e-12, 9.16761247e-02,\n",
      "        1.87073085e-03, 7.53813446e-05, 9.58527608e-06, 3.10067424e-12,\n",
      "        4.61612476e-02, 2.03586740e-03, 2.93829685e-05, 1.19895282e-07,\n",
      "        4.19030324e-12, 5.56268800e-03, 1.11333749e-04, 8.09504338e-07,\n",
      "        4.22984248e-06, 3.29614231e-12, 5.25749197e-03, 2.71945243e-04,\n",
      "        1.74356312e-07, 1.51129919e-08, 1.51853187e-02, 1.04086094e-04,\n",
      "        1.00299955e-06, 1.37961436e-05, 2.33637668e-03, 8.30956349e-05,\n",
      "        8.09069027e-06, 2.27792315e-08, 1.88726051e-04, 1.68168870e-06,\n",
      "        1.59838365e-06, 4.54611959e-09, 1.69682106e-03, 2.61202585e-05,\n",
      "        7.67022161e-07, 2.16236049e-03, 6.24148444e-05, 1.18388305e-07,\n",
      "        1.18045652e-03, 1.17669145e-05, 7.89631134e-06, 6.35683825e-05,\n",
      "        1.48710051e-05, 2.39209657e-07, 4.41018945e-05, 1.87152949e-06,\n",
      "        1.73260408e-06, 1.45104532e-04, 3.43205192e-07, 2.24235334e-04,\n",
      "        1.35806392e-06, 2.44084073e-04, 3.30181690e-07, 4.56530350e-05,\n",
      "        1.05667298e-08, 7.83993287e-06, 2.43082609e-07, 2.63838969e-07,\n",
      "        1.35962527e-06, 3.13622565e-07, 1.35116718e-06, 6.05621894e-06,\n",
      "        1.17414583e-06, 1.10111323e-06, 3.52752198e-06, 8.11842769e-06]])\n",
      "\n",
      "np.sum(mu)=1.0000000034138476\n",
      "\n",
      " edge_distribution=[[[2.75292757e-04 2.65840839e-02]\n",
      "  [1.16326031e-03 4.20358643e-03]]\n",
      "\n",
      " [[2.65840837e-02 1.02515280e-01]\n",
      "  [4.20358654e-03 8.34470830e-01]]]\n"
     ]
    }
   ],
   "source": [
    "kappa = 6\n",
    "B = 2\n",
    "C = get_configuration_chart(4, kappa=kappa)\n",
    "mu = optimize(beta=beta, B=B, kappa=kappa, C=C, ftol=1e-10, verbose=True)"
   ]
  },
  {
   "cell_type": "code",
   "execution_count": 139,
   "metadata": {},
   "outputs": [
    {
     "name": "stderr",
     "output_type": "stream",
     "text": [
      "100%|██████████| 31/31 [00:13<00:00,  2.25it/s]\n",
      "100%|██████████| 31/31 [00:38<00:00,  1.25s/it]\n",
      "100%|██████████| 31/31 [01:21<00:00,  2.64s/it]\n",
      "100%|██████████| 31/31 [02:33<00:00,  4.94s/it]\n",
      "100%|██████████| 31/31 [04:39<00:00,  9.02s/it]\n"
     ]
    }
   ],
   "source": [
    "Bs = np.linspace(-2, 2, 31)\n",
    "kappas = [2, 3, 4, 5, 6]\n",
    "beta = 1\n",
    "\n",
    "res = []\n",
    "for kappa, m in zip(kappas, ['o', ':', 'x', '*', '--']):\n",
    "    probabilities = []\n",
    "    for B in tqdm(Bs):\n",
    "        mu = optimize(beta=beta, B=B, kappa=kappa, ftol=1e-10)\n",
    "        probabilities.append(np.sum(mu[1]))\n",
    "        \n",
    "    res.append(probabilities)"
   ]
  },
  {
   "cell_type": "code",
   "execution_count": 146,
   "metadata": {},
   "outputs": [
    {
     "data": {
      "image/png": "[encoded data removed]",
      "text/plain": [
       "<Figure size 432x288 with 1 Axes>"
      ]
     },
     "metadata": {
      "needs_background": "light"
     },
     "output_type": "display_data"
    }
   ],
   "source": [
    "for probabilities, kappa, m in zip(res, kappas, ['o', ':', 'x', '*', '--']):\n",
    "    probabilities = np.array(probabilities)\n",
    "    plt.plot(Bs, np.log(probabilities / (1 - probabilities)), m, label=f'$\\\\kappa={kappa}$')\n",
    "\n",
    "plt.title(f'Marginal distribution on root mark given kappa ($\\\\beta={beta}$)')\n",
    "plt.xlabel('$B$')\n",
    "plt.ylabel('$\\log(\\mu_0(+) / (1-\\mu_0(+)))$')\n",
    "plt.grid(True)\n",
    "plt.legend()\n",
    "plt.savefig('../img/EA_x0_B_logisitic_change_kappa.png')"
   ]
  },
  {
   "cell_type": "code",
   "execution_count": 66,
   "metadata": {},
   "outputs": [
    {
     "data": {
      "text/plain": [
       "array([[1., 1., 2.],\n",
       "       [0., 2., 2.],\n",
       "       [0., 1., 3.]])"
      ]
     },
     "execution_count": 66,
     "metadata": {},
     "output_type": "execute_result"
    }
   ],
   "source": [
    "A = np.eye(3)\n",
    "b = np.arange(3)\n",
    "A + b"
   ]
  }
 ],
 "metadata": {
  "kernelspec": {
   "display_name": "base",
   "language": "python",
   "name": "python3"
  },
  "language_info": {
   "codemirror_mode": {
    "name": "ipython",
    "version": 3
   },
   "file_extension": ".py",
   "mimetype": "text/x-python",
   "name": "python",
   "nbconvert_exporter": "python",
   "pygments_lexer": "ipython3",
   "version": "3.8.3"
  },
  "orig_nbformat": 4
 },
 "nbformat": 4,
 "nbformat_minor": 2
}
