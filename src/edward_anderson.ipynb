{
 "cells": [
  {
   "cell_type": "code",
   "execution_count": 157,
   "metadata": {},
   "outputs": [],
   "source": [
    "import numpy as np\n",
    "import matplotlib.pyplot as plt\n",
    "from scipy.optimize import minimize, LinearConstraint, NonlinearConstraint, Bounds\n",
    "import scipy.special\n",
    "from scipy.stats import binom, multinomial\n",
    "from tqdm import tqdm\n",
    "\n",
    "from combinations import combinations_"
   ]
  },
  {
   "cell_type": "code",
   "execution_count": 345,
   "metadata": {},
   "outputs": [
    {
     "name": "stdout",
     "output_type": "stream",
     "text": [
      "C=[[0 0 0 2]\n",
      " [0 0 1 1]\n",
      " [0 0 2 0]\n",
      " [0 1 0 1]\n",
      " [0 1 1 0]\n",
      " [1 0 0 1]\n",
      " [1 0 1 0]\n",
      " [0 2 0 0]\n",
      " [1 1 0 0]\n",
      " [2 0 0 0]]\n",
      "eta()=array([[0.03125, 0.0625 , 0.03125, 0.0625 , 0.0625 , 0.0625 , 0.0625 ,\n",
      "        0.03125, 0.0625 , 0.03125],\n",
      "       [0.03125, 0.0625 , 0.03125, 0.0625 , 0.0625 , 0.0625 , 0.0625 ,\n",
      "        0.03125, 0.0625 , 0.03125]])\n",
      "edge_distribution(eta())=array([[[0.125, 0.125],\n",
      "        [0.125, 0.125]],\n",
      "\n",
      "       [[0.125, 0.125],\n",
      "        [0.125, 0.125]]])\n",
      "Hamiltonian()=array([[-1., -0.,  1., -0.,  1., -1., -0.,  1., -0., -1.],\n",
      "       [ 1.,  0., -1.,  0., -1.,  1.,  0., -1.,  0.,  1.]])\n",
      "ver_dist=array([[0.0625, 0.0625, 0.0625, 0.0625],\n",
      "       [0.0625, 0.0625, 0.0625, 0.0625],\n",
      "       [0.0625, 0.0625, 0.0625, 0.0625],\n",
      "       [0.0625, 0.0625, 0.0625, 0.0625]])\n",
      "np.sum(ver_dist)=1.0\n"
     ]
    }
   ],
   "source": [
    "def get_configuration_chart(vertex_states, kappa):\n",
    "    '''\n",
    "    Given the number of vertex-edge states, output all the unique configurations they can be\n",
    "    in (Balls and bins problem)\n",
    "    '''\n",
    "    return np.array(combinations_(kappa, vertex_states))\n",
    "\n",
    "print(f'C={get_configuration_chart(4, 2)}')\n",
    "\n",
    "def eta(kappa=2):\n",
    "    '''\n",
    "    Generate a Bernoulli(1/2) distribution on vertices and edges\n",
    "    '''\n",
    "    conf_chart = get_configuration_chart(4, kappa)\n",
    "    return np.vstack([multinomial.pmf(conf_chart, n=kappa, p=[1/4] * 4)/2] * 2)\n",
    "\n",
    "def Hamiltonian(beta=1, B=0, kappa=2):\n",
    "    '''\n",
    "    Generate hamiltonian values corresponding to all unique states\n",
    "    '''\n",
    "    C = get_configuration_chart(4, kappa)\n",
    "    vertex_spin_sum = C[:, 0] - C[:, 1] - C[:, 2] + C[:, 3]\n",
    "    return np.vstack([-beta / 2 * vertex_spin_sum - B,\n",
    "                      beta / 2 * vertex_spin_sum + B])\n",
    "\n",
    "def relative_entropy(p, q):\n",
    "    p_divided_by_q = np.divide(p, q, out=np.ones_like(p), where=(p > 0) & (q > 0))\n",
    "    partial = p * np.log(p_divided_by_q)\n",
    "    return np.sum(partial)\n",
    "\n",
    "def edge_distribution(p, kappa=2):\n",
    "    '''\n",
    "    Joint distribution for a randomly-chosen edge \n",
    "    '''\n",
    "    counts = get_configuration_chart(4, kappa)\n",
    "    # return p @ counts / kappa\n",
    "    # Equivalent to p @ counts / kappa, but y_0v and x_v are different axes \n",
    "    return np.stack([p @ counts[:, :2], p @ counts[:, 2:]], axis=1) / kappa\n",
    "\n",
    "def multinomial_coeff(params):\n",
    "    '''\n",
    "    Calculate the multinomial coefficient\n",
    "    \n",
    "    Inputs:\n",
    "    params: a list, [x1, x2, ..., xk]\n",
    "    \n",
    "    Outputs:\n",
    "    multinomial coefficient {x1 + x2 + ... + xk \\choose x1 x2 ... xk}\n",
    "    '''\n",
    "    if len(params) == 1:\n",
    "        return 1\n",
    "    return scipy.special.binom(sum(params), params[-1]) * multinomial_coeff(params[:-1])\n",
    "\n",
    "def vertex_distribution(p, kappa=2):\n",
    "    '''\n",
    "    Joint distribution for all edge-vertex pairs\n",
    "    \n",
    "    Input:\n",
    "    p: 1-d array representing distribution on leaf configurations\n",
    "    \n",
    "    Output:\n",
    "    kappa-d array representing the joint distribution of all edge-vertex pairs\n",
    "    '''\n",
    "    # Get the equivalent configuration for each combined vertex-edge state\n",
    "    def counts(*vertex_marks):\n",
    "        stacked = np.stack(vertex_marks, axis=0)\n",
    "        ks = [np.count_nonzero(stacked == l, axis=0) for l in range(4)]\n",
    "        return np.stack(ks, axis=-1)\n",
    "    ks = np.fromfunction(counts, [4] * kappa)\n",
    "    \n",
    "    # Match the configurations with the ones from configurations list\n",
    "    C = get_configuration_chart(4, kappa)\n",
    "    k_reshaped = ks.reshape((-1, 4))\n",
    "    indices = [(conf == C).all(axis=-1).nonzero()[0][0] for conf in k_reshaped]\n",
    "    \n",
    "    # Calculate probabilities for each one\n",
    "    probabilities = [p[index] / multinomial_coeff(C[index]) for index in indices]\n",
    "    \n",
    "    return np.array(probabilities).reshape((4,) * kappa)\n",
    "\n",
    "def objective_function(mu, beta=1, B=0, kappa=2):\n",
    "    hamiltonian = Hamiltonian(beta=beta, B=B, kappa=kappa)\n",
    "    exp = np.sum(hamiltonian * mu)\n",
    "    rel_entr = relative_entropy(mu, eta(kappa=kappa))\n",
    "    pi_mu = edge_distribution(mu)\n",
    "    pi_eta = edge_distribution(eta(kappa=kappa))\n",
    "    marg_rel_entr = relative_entropy(pi_mu, pi_eta)\n",
    "    return exp - rel_entr + kappa / 2 * marg_rel_entr\n",
    "\n",
    "print(f'{eta()=}')\n",
    "print(f'{edge_distribution(eta())=}')\n",
    "print(f'{Hamiltonian()=}')\n",
    "ver_dist = vertex_distribution(np.sum(eta(kappa=2), axis=0), kappa=2)\n",
    "print(f'{ver_dist=}')\n",
    "print(f'{np.sum(ver_dist)=}')"
   ]
  },
  {
   "cell_type": "code",
   "execution_count": null,
   "metadata": {},
   "outputs": [],
   "source": [
    "def optimize(beta, B, kappa, mu0=None, verbose=False, ftol=1e-9, constr_tol=1e-10):\n",
    "    C = get_configuration_chart(4, kappa)\n",
    "    if verbose:\n",
    "        print(f'{C=}')\n",
    "    num_configurations = len(C)\n",
    "    if mu0 is None:\n",
    "        # p_x0 = 1/2\n",
    "        # p_up = np.random.uniform(0, 1)\n",
    "        # p_xv0 = binom.pmf(np.arange(kappa+1), kappa, p_up)\n",
    "        # p_xv1 = binom.pmf(np.arange(kappa+1), kappa, 1 - p_up)\n",
    "        # mu0 = np.vstack([p_xv0, p_xv1]) * np.array([[p_x0], [1 - p_x0]])\n",
    "        mu0 = eta(kappa=kappa)\n",
    "    \n",
    "    if verbose:\n",
    "        print(f'{beta=}, {B=}, {kappa=}\\n{mu0=}')\n",
    "    \n",
    "    bounds = Bounds(np.zeros_like(mu0.flatten()), np.ones_like(mu0.flatten()), keep_feasible=True)\n",
    "    norm_constraint = LinearConstraint(np.ones_like(mu0.flatten()), 1, 1, keep_feasible=True)\n",
    "    admissibility_linear = np.block([[C[:, 1], -C[:, 0]],\n",
    "                                     [C[:, 3], -C[:, 2]]]) / kappa\n",
    "    admissibility_constraint = LinearConstraint(admissibility_linear, lb=0, ub=0, keep_feasible=True)\n",
    "    \n",
    "    res = minimize(lambda mu: -objective_function(mu.reshape(2, num_configurations), beta=beta, B=B, kappa=kappa),\n",
    "                   x0=mu0.flatten(), method='SLSQP', \n",
    "                   constraints=[norm_constraint, admissibility_constraint],\n",
    "                   bounds=bounds,\n",
    "                   options={'ftol': ftol, 'disp': verbose})\n",
    "    \n",
    "    mu = res.x.reshape(2, num_configurations)\n",
    "    \n",
    "    if verbose:\n",
    "        print(f'{objective_function(mu)=}\\n')\n",
    "        print(f'{mu=}\\n\\n{np.sum(mu)=}\\n\\n{edge_distribution(mu)=}')\n",
    "    \n",
    "    return mu"
   ]
  },
  {
   "cell_type": "code",
   "execution_count": 346,
   "metadata": {},
   "outputs": [
    {
     "name": "stdout",
     "output_type": "stream",
     "text": [
      "C=array([[0, 0, 0, 2],\n",
      "       [0, 0, 1, 1],\n",
      "       [0, 0, 2, 0],\n",
      "       [0, 1, 0, 1],\n",
      "       [0, 1, 1, 0],\n",
      "       [1, 0, 0, 1],\n",
      "       [1, 0, 1, 0],\n",
      "       [0, 2, 0, 0],\n",
      "       [1, 1, 0, 0],\n",
      "       [2, 0, 0, 0]])\n",
      "beta=1, B=1, kappa=2\n",
      "mu0=array([[0.03125, 0.0625 , 0.03125, 0.0625 , 0.0625 , 0.0625 , 0.0625 ,\n",
      "        0.03125, 0.0625 , 0.03125],\n",
      "       [0.03125, 0.0625 , 0.03125, 0.0625 , 0.0625 , 0.0625 , 0.0625 ,\n",
      "        0.03125, 0.0625 , 0.03125]])\n",
      "Optimization terminated successfully    (Exit mode 0)\n",
      "            Current function value: -0.8675616583380091\n",
      "            Iterations: 53\n",
      "            Function evaluations: 1184\n",
      "            Gradient evaluations: 53\n",
      "objective_function(mu)=0.10597430628003279\n",
      "\n",
      "mu=array([[1.31426762e-03, 2.62952982e-03, 1.31559940e-03, 1.94190370e-02,\n",
      "        1.94213670e-02, 3.55854845e-04, 3.55770022e-04, 7.17435422e-02,\n",
      "        2.62735039e-03, 2.40056374e-05],\n",
      "       [5.30123527e-01, 1.94205687e-02, 1.77811275e-04, 1.43490753e-01,\n",
      "        2.62978734e-03, 1.43489832e-01, 2.62697838e-03, 9.70596572e-03,\n",
      "        1.94188766e-02, 9.70957573e-03]])\n",
      "\n",
      "np.sum(mu)=1.0000000000000002\n",
      "\n",
      "edge_distribution(mu)=array([[[0.00169349, 0.09247742],\n",
      "        [0.01251893, 0.01251648]],\n",
      "\n",
      "       [[0.09247742, 0.09247567],\n",
      "        [0.01251648, 0.6833241 ]]])\n"
     ]
    }
   ],
   "source": [
    "mu = optimize(beta=1, B=1, kappa=2, verbose=True)"
   ]
  },
  {
   "attachments": {},
   "cell_type": "markdown",
   "metadata": {},
   "source": [
    "### P(X1, X2 | X0)"
   ]
  },
  {
   "cell_type": "code",
   "execution_count": 180,
   "metadata": {},
   "outputs": [
    {
     "name": "stderr",
     "output_type": "stream",
     "text": [
      "/Users/yizhonghu/anaconda3/lib/python3.8/site-packages/scipy/optimize/_constraints.py:353: OptimizeWarning: Constraint option `keep_feasible` is ignored by this method.\n",
      "  warn(\"Constraint option `keep_feasible` is ignored by this \"\n"
     ]
    },
    {
     "name": "stdout",
     "output_type": "stream",
     "text": [
      "mu_edge=array([0.00355234, 0.05249689, 0.19395088, 0.05249677, 0.38790176,\n",
      "       0.0071047 , 0.05249682, 0.19395071, 0.05249676, 0.00355238])\n",
      "leaf_dist=array([[0.00355238, 0.02624838, 0.02624841, 0.00355235],\n",
      "       [0.02624838, 0.19395071, 0.19395088, 0.02624838],\n",
      "       [0.02624841, 0.19395088, 0.19395088, 0.02624845],\n",
      "       [0.00355235, 0.02624838, 0.02624845, 0.00355234]])\n",
      "p_x1=array([0.05960151, 0.44039835, 0.44039861, 0.05960152]) p_x2=array([0.05960151, 0.44039835, 0.44039861, 0.05960152])\n",
      "np.outer(p_x1, p_x2)=array([[0.00355234, 0.02624841, 0.02624842, 0.00355234],\n",
      "       [0.02624841, 0.19395071, 0.19395082, 0.02624841],\n",
      "       [0.02624842, 0.19395082, 0.19395094, 0.02624843],\n",
      "       [0.00355234, 0.02624841, 0.02624843, 0.00355234]])\n"
     ]
    }
   ],
   "source": [
    "mu = optimize(beta=1, B=0, kappa=2, ftol=1e-10)\n",
    "\n",
    "x0 = 0\n",
    "mu_edge = mu[x0] / np.sum(mu, axis=1)[x0]\n",
    "print(f'{mu_edge=}')\n",
    "leaf_dist = vertex_distribution(mu_edge, kappa=2)\n",
    "print(f'{leaf_dist=}')\n",
    "p_x1 = np.sum(leaf_dist, axis=1)\n",
    "p_x2 = np.sum(leaf_dist, axis=0)\n",
    "print(f'{p_x1=}', f'{p_x2=}')\n",
    "print(f'{np.outer(p_x1, p_x2)=}')"
   ]
  },
  {
   "cell_type": "code",
   "execution_count": 92,
   "metadata": {},
   "outputs": [
    {
     "name": "stderr",
     "output_type": "stream",
     "text": [
      "No artists with labels found to put in legend.  Note that artists whose label start with an underscore are ignored when legend() is called with no argument.\n"
     ]
    },
    {
     "data": {
      "text/plain": [
       "(-0.1, 1.1)"
      ]
     },
     "execution_count": 92,
     "metadata": {},
     "output_type": "execute_result"
    },
    {
     "data": {
      "image/png": "[encoded data removed]",
      "text/plain": [
       "<Figure size 432x288 with 1 Axes>"
      ]
     },
     "metadata": {
      "needs_background": "light"
     },
     "output_type": "display_data"
    }
   ],
   "source": [
    "betas = np.linspace(-3, 3, 31)\n",
    "rel_entrs = []\n",
    "\n",
    "x0 = 0\n",
    "\n",
    "for beta in betas:\n",
    "    mu = optimize(beta=beta, B=0, kappa=2, ftol=1e-10)\n",
    "\n",
    "    mu_edge = mu[x0] / np.sum(mu, axis=1)[x0]\n",
    "    \n",
    "    leaf_dist = vertex_distribution(mu_edge, kappa=2)\n",
    "    \n",
    "    p_x1 = np.sum(leaf_dist, axis=1)\n",
    "    p_x2 = np.sum(leaf_dist, axis=0)\n",
    "    indep_dist = np.outer(p_x1, p_x2)\n",
    "    \n",
    "    rel_entrs.append(relative_entropy(leaf_dist, indep_dist))\n",
    "    \n",
    "frob_dists = np.array(rel_entrs)\n",
    "\n",
    "plt.plot(betas, frob_dists)\n",
    "plt.legend()\n",
    "plt.title(f'Correlation strength between $X_1$ and $X_2$ given $X_0={2*x0-1}$ ($B=0$)')\n",
    "plt.xlabel('$\\\\beta$')\n",
    "plt.ylabel('$\\\\mathbb{P}(X_1, X_2) / [\\\\mathbb{P}(X_1)\\\\mathbb{P}(X_2)]$')\n",
    "plt.grid(True)\n",
    "plt.ylim(-0.1, 1.1)\n",
    "# plt.savefig(f'../img/ising_x1_x2_x0={2*x0-1}.png')"
   ]
  },
  {
   "cell_type": "code",
   "execution_count": 98,
   "metadata": {},
   "outputs": [
    {
     "data": {
      "image/png": "[encoded data removed]",
      "text/plain": [
       "<Figure size 432x288 with 1 Axes>"
      ]
     },
     "metadata": {
      "needs_background": "light"
     },
     "output_type": "display_data"
    }
   ],
   "source": [
    "betas = np.linspace(-3, 3, 31)\n",
    "pearson_coeff = []\n",
    "Bs = [-1, -0.1, 0, .1, 1]\n",
    "\n",
    "x0 = 0\n",
    "\n",
    "for B, m in zip(Bs, ['o', ':', 'x', '*', '--']):\n",
    "    frob_dists = []\n",
    "\n",
    "    for beta in betas:\n",
    "        mu = optimize(beta=beta, B=B, kappa=2, ftol=1e-10)\n",
    "\n",
    "        mu_edge = mu[x0] / np.sum(mu, axis=1)[x0]\n",
    "        \n",
    "        leaf_dist = vertex_distribution(mu_edge, kappa=2)\n",
    "        \n",
    "        p_x1 = np.sum(leaf_dist, axis=1)\n",
    "        p_x2 = np.sum(leaf_dist, axis=0)\n",
    "        indep_dist = np.outer(p_x1, p_x2)\n",
    "\n",
    "        \n",
    "        frob_dists.append(relative_entropy(leaf_dist, indep_dist))\n",
    "        \n",
    "    frob_dists = np.array(frob_dists)\n",
    "\n",
    "    plt.plot(betas, frob_dists, m, label=f'${B=}$')\n",
    "\n",
    "plt.legend()\n",
    "plt.title(f'Correlation strength between $(X_v, Y_{{0v}})$ and $(X_{{v\\'}}, Y_{{0v\\'}})$ given $X_0={2*x0-1}$')\n",
    "plt.xlabel('$\\\\beta$')\n",
    "plt.ylabel('Relative Entropy $H(\\\\nu_\\mu \\| \\check{\\\\nu}_\\mu)$')\n",
    "plt.grid(True)\n",
    "\n",
    "plt.ylim((-.01, 0.11))\n",
    "\n",
    "plt.savefig(f'../img/EA_x1_x2_RelEntr_x0={2*x0-1}.png')"
   ]
  },
  {
   "attachments": {},
   "cell_type": "markdown",
   "metadata": {},
   "source": [
    "### P(X0) with respect to B"
   ]
  },
  {
   "cell_type": "code",
   "execution_count": 102,
   "metadata": {},
   "outputs": [
    {
     "data": {
      "image/png": "[encoded data removed]",
      "text/plain": [
       "<Figure size 432x288 with 1 Axes>"
      ]
     },
     "metadata": {
      "needs_background": "light"
     },
     "output_type": "display_data"
    }
   ],
   "source": [
    "Bs = np.linspace(-2, 2, 51)\n",
    "betas = [-3, -1, -0.3, 0, 0.3, 1, 3]\n",
    "\n",
    "for beta in betas:\n",
    "    probabilities = []\n",
    "    for B in Bs:\n",
    "        mu = optimize(beta=beta, B=B, kappa=2, ftol=1e-10)\n",
    "        probabilities.append(np.sum(mu[1]))\n",
    "        \n",
    "    plt.plot(Bs, probabilities, label=f'$\\\\beta={beta}$')\n",
    "plt.title('Preference for $X_0$ values')\n",
    "plt.xlabel('$B$')\n",
    "plt.ylabel('$\\mathbb{P}(X_0=1)$')\n",
    "plt.grid(True)\n",
    "plt.legend()\n",
    "plt.savefig('../img/EA_x0_B.png')"
   ]
  },
  {
   "attachments": {},
   "cell_type": "markdown",
   "metadata": {},
   "source": [
    "Assume that we have the form\n",
    "$$\\mu(x_0, \\tau) = e^{\\mathcal{H(x_0, \\tau)}}$$\n",
    "I am guessing that\n",
    "$$\\mu_0(x_0) = \\frac1Ze^{f(\\beta, B)x_0}$$\n",
    "Therefore, plotting\n",
    "$$\\log\\frac{\\mu_0(+)}{1-\\mu_0(+)}$$\n",
    "sounds like a good idea"
   ]
  },
  {
   "cell_type": "code",
   "execution_count": 103,
   "metadata": {},
   "outputs": [
    {
     "data": {
      "image/png": "[encoded data removed]",
      "text/plain": [
       "<Figure size 432x288 with 1 Axes>"
      ]
     },
     "metadata": {
      "needs_background": "light"
     },
     "output_type": "display_data"
    }
   ],
   "source": [
    "Bs = np.linspace(-2, 2, 51)\n",
    "beta = 1\n",
    "\n",
    "probabilities = []\n",
    "for B in Bs:\n",
    "    mu = optimize(beta=beta, B=B, kappa=2, ftol=1e-10)\n",
    "    probabilities.append(np.sum(mu[1]))\n",
    "    \n",
    "probabilities = np.array(probabilities)\n",
    "    \n",
    "plt.plot(Bs, np.log(probabilities / (1 - probabilities)), label=f'$\\\\beta={beta}$')\n",
    "\n",
    "plt.title('Preference for $X_0$ values')\n",
    "plt.xlabel('$B$')\n",
    "plt.ylabel('$\\log(\\mu_0(+) / (1-\\mu_0(+)))$')\n",
    "plt.grid(True)\n",
    "plt.legend()\n",
    "plt.savefig('../img/EA_x0_B_logisitic.png')"
   ]
  }
 ],
 "metadata": {
  "kernelspec": {
   "display_name": "base",
   "language": "python",
   "name": "python3"
  },
  "language_info": {
   "codemirror_mode": {
    "name": "ipython",
    "version": 3
   },
   "file_extension": ".py",
   "mimetype": "text/x-python",
   "name": "python",
   "nbconvert_exporter": "python",
   "pygments_lexer": "ipython3",
   "version": "3.8.3"
  },
  "orig_nbformat": 4
 },
 "nbformat": 4,
 "nbformat_minor": 2
}
