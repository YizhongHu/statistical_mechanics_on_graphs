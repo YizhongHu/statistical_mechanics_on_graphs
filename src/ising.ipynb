{
 "cells": [
  {
   "cell_type": "code",
   "execution_count": 39,
   "metadata": {},
   "outputs": [],
   "source": [
    "import numpy as np\n",
    "import matplotlib.pyplot as plt\n",
    "from scipy.optimize import minimize, LinearConstraint, NonlinearConstraint, Bounds\n",
    "import scipy.special\n",
    "from scipy.stats import binom\n",
    "from tqdm import tqdm"
   ]
  },
  {
   "cell_type": "code",
   "execution_count": 106,
   "metadata": {},
   "outputs": [
    {
     "name": "stdout",
     "output_type": "stream",
     "text": [
      "eta()=array([[0.125, 0.25 , 0.125],\n",
      "       [0.125, 0.25 , 0.125]])\n",
      "edge_distribution(eta())=array([[0.25, 0.25],\n",
      "       [0.25, 0.25]])\n"
     ]
    }
   ],
   "source": [
    "# beta = 1\n",
    "# B = 0\n",
    "# kappa = 2\n",
    "# The states are marked mu(x0, k), where x0 is the spin of the root node and k is the number of\n",
    "# leaves that are spin-up\n",
    "\n",
    "def eta(kappa=2):\n",
    "    multiplicity = np.fromfunction(lambda _, k: scipy.special.comb(kappa, k), (2, kappa+1))\n",
    "    eta = multiplicity / (2 ** (kappa+1))\n",
    "    return eta\n",
    "\n",
    "def Hamiltonian(x0, k, beta=1, B=0, kappa=2):\n",
    "    x0 = 2 * x0 - 1\n",
    "    return beta / 2 * x0 * (2 * k - kappa) + B * x0\n",
    "\n",
    "def relative_entropy(p, q):\n",
    "    p_divided_by_q = np.divide(p, q, out=np.ones_like(p), where=(p > 0) & (q > 0))\n",
    "    partial = p * np.log(p_divided_by_q)\n",
    "    return np.sum(partial)\n",
    "\n",
    "def edge_distribution(p, kappa=2):\n",
    "    counts = np.vstack((kappa - np.arange(kappa+1),\n",
    "                        np.arange(kappa+1)))\n",
    "    return p @ counts.T / kappa\n",
    "\n",
    "def objective_function(mu, beta=1, B=0, kappa=2):\n",
    "    hamiltonian = np.fromfunction(Hamiltonian, (2, kappa+1), beta=beta, B=B, kappa=kappa)\n",
    "    exp = np.sum(hamiltonian * mu)\n",
    "    rel_entr = relative_entropy(mu, eta(kappa=kappa))\n",
    "    pi_mu = edge_distribution(mu)\n",
    "    pi_eta = edge_distribution(eta(kappa=kappa))\n",
    "    marg_rel_entr = relative_entropy(pi_mu, pi_eta)\n",
    "    return exp - rel_entr + kappa / 2 * marg_rel_entr\n",
    "    \n",
    "def norm_constraint(mu):\n",
    "    return np.sum(mu) - 1\n",
    "\n",
    "# def norm_constraint_grad(mu):\n",
    "#     return mu\n",
    "\n",
    "def admissibility_constraint(mu):\n",
    "    pi_mu = edge_distribution(mu)\n",
    "    return pi_mu[0, 1] - pi_mu[1, 0]\n",
    "\n",
    "# def admissibility_constraint_grad(mu):\n",
    "#     grad_01 = np.concatenate([kappa - np.arange(kappa+1),\n",
    "#                               np.zeros((1, kappa+1))], axis=0)\n",
    "#     grad_10 = np.concatenate([np.zeros((1, kappa+1)),\n",
    "#                               np.arange(kappa+1)], axis=0)\n",
    "#     return grad_01 - grad_10\n",
    "\n",
    "print(f'{eta()=}')\n",
    "print(f'{edge_distribution(eta())=}')"
   ]
  },
  {
   "cell_type": "code",
   "execution_count": 133,
   "metadata": {},
   "outputs": [],
   "source": [
    "def optimize(beta, B, kappa, mu0=None, verbose=False, ftol=1e-9, constr_tol=1e-10):\n",
    "    if mu0 is None:\n",
    "        p_x0 = 1/2\n",
    "        p_up = np.random.uniform(0, 1)\n",
    "        p_xv0 = binom.pmf(np.arange(kappa+1), kappa, p_up)\n",
    "        p_xv1 = binom.pmf(np.arange(kappa+1), kappa, 1 - p_up)\n",
    "        mu0 = np.vstack([p_xv0, p_xv1]) * np.array([[p_x0], [1 - p_x0]])\n",
    "    \n",
    "    if verbose:\n",
    "        print(f'{beta=}, {B=}, {kappa=}\\n{mu0=}')\n",
    "    \n",
    "    bounds = Bounds(np.zeros_like(mu0.flatten()), np.ones_like(mu0.flatten()), keep_feasible=True)\n",
    "\n",
    "    norm_constraint = LinearConstraint(np.ones_like(mu0.flatten()), 1, 1, keep_feasible=True)\n",
    "    admissibility_linear = np.hstack((-np.arange(kappa+1), kappa - np.arange(kappa+1))) / kappa\n",
    "    admissibility_constraint = LinearConstraint(admissibility_linear, lb=0, ub=0, keep_feasible=True)\n",
    "    \n",
    "    res = minimize(lambda mu: -objective_function(mu.reshape(2, kappa+1), beta=beta, B=B, kappa=kappa),\n",
    "                   x0=mu0.flatten(), method='SLSQP', \n",
    "                   constraints=[norm_constraint, admissibility_constraint],\n",
    "                   bounds=bounds,\n",
    "                   options={'ftol': ftol, 'disp': verbose})\n",
    "    \n",
    "    mu = res.x.reshape(2, kappa+1)\n",
    "    \n",
    "    if verbose:\n",
    "        print(f'{objective_function(mu)=}\\n')\n",
    "        print(f'{mu=}\\n\\n{np.sum(mu)=}\\n\\n{edge_distribution(mu)=}')\n",
    "    \n",
    "    return mu"
   ]
  },
  {
   "cell_type": "code",
   "execution_count": 134,
   "metadata": {},
   "outputs": [
    {
     "name": "stdout",
     "output_type": "stream",
     "text": [
      "beta=1, B=0, kappa=2\n",
      "mu0=array([[0.04286413, 0.20706563, 0.25007024],\n",
      "       [0.25007024, 0.20706563, 0.04286413]])\n",
      "Optimization terminated successfully    (Exit mode 0)\n",
      "            Current function value: -0.433780830385878\n",
      "            Iterations: 18\n",
      "            Function evaluations: 134\n",
      "            Gradient evaluations: 18\n",
      "objective_function(mu)=0.433780830385878\n",
      "\n",
      "mu=array([[0.38790917, 0.10499272, 0.0071041 ],\n",
      "       [0.00710368, 0.10499356, 0.38789676]])\n",
      "\n",
      "np.sum(mu)=1.0\n",
      "\n",
      "edge_distribution(mu)=array([[0.44040554, 0.05960046],\n",
      "       [0.05960046, 0.44039354]])\n"
     ]
    },
    {
     "name": "stderr",
     "output_type": "stream",
     "text": [
      "/Users/yizhonghu/anaconda3/lib/python3.8/site-packages/scipy/optimize/_constraints.py:353: OptimizeWarning: Constraint option `keep_feasible` is ignored by this method.\n",
      "  warn(\"Constraint option `keep_feasible` is ignored by this \"\n"
     ]
    }
   ],
   "source": [
    "mu = optimize(beta=1, B=0, kappa=2, verbose=True)"
   ]
  },
  {
   "attachments": {},
   "cell_type": "markdown",
   "metadata": {},
   "source": [
    "### P(X0, X1)"
   ]
  },
  {
   "cell_type": "code",
   "execution_count": 143,
   "metadata": {},
   "outputs": [
    {
     "name": "stdout",
     "output_type": "stream",
     "text": [
      "pi_mu=array([[1.50657264e-13, 5.00000000e-01],\n",
      "       [5.00000000e-01, 1.19113053e-13]])\n",
      "p_x0=array([0.5, 0.5]) p_x1=array([0.5, 0.5])\n",
      "np.outer(p_x0, p_x1)=array([[0.25, 0.25],\n",
      "       [0.25, 0.25]])\n"
     ]
    }
   ],
   "source": [
    "mu = optimize(beta=-10, B=0, kappa=2, ftol=1e-10)\n",
    "\n",
    "pi_mu = edge_distribution(mu)\n",
    "print(f'{pi_mu=}')\n",
    "p_x0 = np.sum(pi_mu, axis=1)\n",
    "p_x1 = np.sum(pi_mu, axis=0)\n",
    "print(f'{p_x0=}', f'{p_x1=}')\n",
    "print(f'{np.outer(p_x0, p_x1)=}')"
   ]
  },
  {
   "cell_type": "code",
   "execution_count": 155,
   "metadata": {},
   "outputs": [
    {
     "data": {
      "image/png": "[encoded data removed]",
      "text/plain": [
       "<Figure size 432x288 with 1 Axes>"
      ]
     },
     "metadata": {
      "needs_background": "light"
     },
     "output_type": "display_data"
    }
   ],
   "source": [
    "betas = np.linspace(-5, 5, 51)\n",
    "probabilities = []\n",
    "\n",
    "for beta in betas:\n",
    "    mu = optimize(beta=beta, B=0, kappa=2, ftol=1e-10)\n",
    "    pi_mu = edge_distribution(mu)\n",
    "    p_x0 = np.sum(pi_mu, axis=1)\n",
    "    p_x1 = np.sum(pi_mu, axis=0)\n",
    "    indep_dist = np.outer(p_x0, p_x1)\n",
    "    probabilities.append(pi_mu / indep_dist)\n",
    "    \n",
    "probabilities = np.array(probabilities)\n",
    "\n",
    "plt.plot(betas, probabilities[:, 0, 0], ':', label='$(X_0, X_v)=(-, -)$')\n",
    "plt.plot(betas, probabilities[:, 0, 1], '.', label='$(X_0, X_v)=(-, +)$')\n",
    "plt.plot(betas, probabilities[:, 1, 0], '--', label='$(X_0, X_v)=(+, -)$')\n",
    "plt.plot(betas, probabilities[:, 1, 1], '*', label='$(X_0, X_v)=(+, +)$')\n",
    "plt.legend()\n",
    "plt.title('Correlation strength w.r.t. $\\\\beta$ ($B=0$)')\n",
    "plt.xlabel('$\\\\beta$')\n",
    "plt.ylabel('$\\\\mathbb{P}(X_0, X_1) / [\\\\mathbb{P}(X_0)\\\\mathbb{P}(X_v)]$')\n",
    "plt.grid(True)\n",
    "plt.savefig('../img/ising_x0_xv.png')"
   ]
  },
  {
   "cell_type": "code",
   "execution_count": 167,
   "metadata": {},
   "outputs": [
    {
     "name": "stderr",
     "output_type": "stream",
     "text": [
      "/Users/yizhonghu/anaconda3/lib/python3.8/site-packages/scipy/optimize/_constraints.py:353: OptimizeWarning: Constraint option `keep_feasible` is ignored by this method.\n",
      "  warn(\"Constraint option `keep_feasible` is ignored by this \"\n"
     ]
    },
    {
     "data": {
      "image/png": "[encoded data removed]",
      "text/plain": [
       "<Figure size 432x288 with 1 Axes>"
      ]
     },
     "metadata": {
      "needs_background": "light"
     },
     "output_type": "display_data"
    }
   ],
   "source": [
    "Bs = np.linspace(-2, 2, 101)\n",
    "probabilities = []\n",
    "\n",
    "for B in Bs:\n",
    "    mu = optimize(beta=1, B=B, kappa=2, ftol=1e-10)\n",
    "    probabilities.append(np.sum(mu[1]))\n",
    "    \n",
    "plt.plot(Bs, probabilities)\n",
    "plt.title('Preference for $X_1$ values')\n",
    "plt.xlabel('$B$')\n",
    "plt.ylabel('$\\mathbb{P}(X_0=1)$')\n",
    "plt.grid(True)\n",
    "plt.savefig('../img/ising_x0_B.png')"
   ]
  },
  {
   "attachments": {},
   "cell_type": "markdown",
   "metadata": {},
   "source": [
    "### P(X1, X2)"
   ]
  },
  {
   "cell_type": "code",
   "execution_count": 160,
   "metadata": {},
   "outputs": [
    {
     "name": "stdout",
     "output_type": "stream",
     "text": [
      "leaf_dist=array([[4.99954616e-01, 4.53837494e-05],\n",
      "       [4.53837494e-05, 4.99954616e-01]])\n",
      "p_x1=array([0.5, 0.5]) p_x2=array([0.5, 0.5])\n",
      "np.outer(p_x1, p_x2)=array([[0.25, 0.25],\n",
      "       [0.25, 0.25]])\n"
     ]
    }
   ],
   "source": [
    "mu_edge = np.sum(mu, axis=0)\n",
    "leaf_dist = np.array([[mu_edge[2], mu_edge[1] / 2],\n",
    "                      [mu_edge[1] / 2, mu_edge[0]],])\n",
    "print(f'{leaf_dist=}')\n",
    "p_x1 = np.sum(leaf_dist, axis=1)\n",
    "p_x2 = np.sum(leaf_dist, axis=0)\n",
    "print(f'{p_x1=}', f'{p_x2=}')\n",
    "print(f'{np.outer(p_x1, p_x2)=}')"
   ]
  },
  {
   "attachments": {},
   "cell_type": "markdown",
   "metadata": {},
   "source": [
    "### P(X1, X2 | X0)"
   ]
  },
  {
   "cell_type": "code",
   "execution_count": 162,
   "metadata": {},
   "outputs": [
    {
     "name": "stdout",
     "output_type": "stream",
     "text": [
      "mu_edge=array([1.02431541e-14, 9.07674988e-05, 9.99909233e-01])\n",
      "leaf_dist=array([[9.99909233e-01, 4.53837494e-05],\n",
      "       [4.53837494e-05, 1.02431541e-14]])\n",
      "p_x1=array([9.99954616e-01, 4.53837494e-05]) p_x2=array([9.99954616e-01, 4.53837494e-05])\n",
      "np.outer(p_x1, p_x2)=array([[9.99909235e-01, 4.53816897e-05],\n",
      "       [4.53816897e-05, 2.05968471e-09]])\n"
     ]
    }
   ],
   "source": [
    "x0 = 1\n",
    "mu_edge = mu[x0] / np.sum(mu, axis=1)[x0]\n",
    "print(f'{mu_edge=}')\n",
    "leaf_dist = np.array([[mu_edge[2], mu_edge[1] / 2],\n",
    "                      [mu_edge[1] / 2, mu_edge[0]],])\n",
    "print(f'{leaf_dist=}')\n",
    "p_x1 = np.sum(leaf_dist, axis=1)\n",
    "p_x2 = np.sum(leaf_dist, axis=0)\n",
    "print(f'{p_x1=}', f'{p_x2=}')\n",
    "print(f'{np.outer(p_x1, p_x2)=}')"
   ]
  },
  {
   "cell_type": "code",
   "execution_count": null,
   "metadata": {},
   "outputs": [],
   "source": []
  }
 ],
 "metadata": {
  "kernelspec": {
   "display_name": "base",
   "language": "python",
   "name": "python3"
  },
  "language_info": {
   "codemirror_mode": {
    "name": "ipython",
    "version": 3
   },
   "file_extension": ".py",
   "mimetype": "text/x-python",
   "name": "python",
   "nbconvert_exporter": "python",
   "pygments_lexer": "ipython3",
   "version": "3.8.3"
  },
  "orig_nbformat": 4
 },
 "nbformat": 4,
 "nbformat_minor": 2
}
