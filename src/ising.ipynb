{
 "cells": [
  {
   "cell_type": "code",
   "execution_count": 146,
   "metadata": {},
   "outputs": [],
   "source": [
    "import numpy as np\n",
    "import matplotlib.pyplot as plt\n",
    "from scipy.optimize import minimize, LinearConstraint, NonlinearConstraint, Bounds\n",
    "import scipy.special\n",
    "from tqdm import tqdm"
   ]
  },
  {
   "cell_type": "code",
   "execution_count": 9,
   "metadata": {},
   "outputs": [
    {
     "name": "stdout",
     "output_type": "stream",
     "text": [
      "eta=array([[0.125, 0.25 , 0.125],\n",
      "       [0.125, 0.25 , 0.125]])\n",
      "edge_distribution(eta)=array([[0.25, 0.25],\n",
      "       [0.25, 0.25]])\n"
     ]
    }
   ],
   "source": [
    "beta = 1\n",
    "B = 0\n",
    "kappa = 2\n",
    "# The states are marked mu(x0, k), where x0 is the spin of the root node and k is the number of\n",
    "# leaves that are spin-up\n",
    "multiplicity = np.fromfunction(lambda _, k: scipy.special.comb(kappa, k), (2, kappa+1))\n",
    "eta = multiplicity / (2 ** (kappa+1))\n",
    "print(f'{eta=}')\n",
    "\n",
    "def Hamiltonian(x0, k):\n",
    "    x0 = 2 * x0 - 1\n",
    "    return beta / 2 * x0 * (2 * k - kappa) + B * x0\n",
    "\n",
    "def relative_entropy(p, q):\n",
    "    return np.sum(p * np.log(p / q))\n",
    "\n",
    "def edge_distribution(p):\n",
    "    counts = np.vstack((kappa - np.arange(kappa+1),\n",
    "                        np.arange(kappa+1)))\n",
    "    return p @ counts.T / kappa\n",
    "\n",
    "def target_function(mu):\n",
    "    hamiltonian = np.fromfunction(Hamiltonian, (2, kappa+1))\n",
    "    exp = np.sum(hamiltonian * mu)\n",
    "    rel_entr = relative_entropy(mu, eta)\n",
    "    pi_mu = edge_distribution(mu)\n",
    "    pi_eta = edge_distribution(eta)\n",
    "    marg_rel_entr = relative_entropy(pi_mu, pi_eta)\n",
    "    return exp - rel_entr + marg_rel_entr\n",
    "    \n",
    "def norm_constraint(mu):\n",
    "    return np.sum(mu) - 1\n",
    "\n",
    "# def norm_constraint_grad(mu):\n",
    "#     return mu\n",
    "\n",
    "def admissibility_constraint(mu):\n",
    "    pi_mu = edge_distribution(mu)\n",
    "    return pi_mu[0, 1] - pi_mu[1, 0]\n",
    "\n",
    "# def admissibility_constraint_grad(mu):\n",
    "#     grad_01 = np.concatenate([kappa - np.arange(kappa+1),\n",
    "#                               np.zeros((1, kappa+1))], axis=0)\n",
    "#     grad_10 = np.concatenate([np.zeros((1, kappa+1)),\n",
    "#                               np.arange(kappa+1)], axis=0)\n",
    "#     return grad_01 - grad_10\n",
    "\n",
    "print(f'{edge_distribution(eta)=}')"
   ]
  },
  {
   "cell_type": "code",
   "execution_count": 113,
   "metadata": {},
   "outputs": [],
   "source": [
    "def optimize(x0, lam0, patience, eps, verbose=True):\n",
    "\n",
    "    x = x0\n",
    "    lam = lam0\n",
    "    \n",
    "    target = -np.inf\n",
    "    for it in range(patience):\n",
    "        if verbose:\n",
    "            print(f\"{it=}\")\n",
    "\n",
    "        # Redefine the function for scipy.optimize.minimize\n",
    "        # There is probably some fancy functional-programming way to incorporate lambda\n",
    "        # but you get the point.\n",
    "        def proximal_target_function(_x):\n",
    "            _x = _x.reshape((2, kappa+1))\n",
    "            _mu = np.exp(_x)\n",
    "            _norm_constraint = norm_constraint(_mu)\n",
    "            _admissibility_constraint = admissibility_constraint(_mu)\n",
    "            return -target_function(_mu) \\\n",
    "                - lam[0] * _norm_constraint \\\n",
    "                - lam[1] * _admissibility_constraint \\\n",
    "                + _norm_constraint ** 2 / 2 \\\n",
    "                + 1000 * _admissibility_constraint ** 2 / 2\n",
    "        \n",
    "        # Calculate proximal point\n",
    "        res = minimize(proximal_target_function, x0=x.flatten(), method='l-bfgs-b')\n",
    "        if not res.success:\n",
    "            print(f'Proximal Point minimization not successful: {res.message}')\n",
    "            return x, target\n",
    "        new_x = res.x.reshape((2, kappa+1))\n",
    "        \n",
    "        new_mu = np.exp(new_x.reshape(2, kappa+1))\n",
    "        new_target = target_function(new_mu)\n",
    "        _norm_constraint = norm_constraint(new_mu)\n",
    "        _admissibility_constraint = admissibility_constraint(new_mu)\n",
    "        if verbose:\n",
    "            print(f\"{new_target=:.4e}\\t{_norm_constraint=:.4e}\\t{_admissibility_constraint=:.4e}\")\n",
    "            \n",
    "        # Decide whether to terminate\n",
    "        if np.abs(target - new_target) < eps and np.all(np.abs(mu - new_mu) < eps) and np.abs(_norm_constraint) < eps and np.abs(_admissibility_constraint) < eps:\n",
    "            return x, target\n",
    "        target = new_target\n",
    "        x = new_x\n",
    "        mu = new_mu\n",
    "        \n",
    "        # Update lambda\n",
    "        lam[0] = lam[0] - _norm_constraint\n",
    "        lam[1] = lam[1] - 1000 * _admissibility_constraint\n",
    "    print(f'Reached Patience: {new_target=:.4e}\\t{_norm_constraint=:.4e}\\t{_admissibility_constraint=:.4e}')\n",
    "    return x, target"
   ]
  },
  {
   "cell_type": "code",
   "execution_count": 137,
   "metadata": {},
   "outputs": [
    {
     "name": "stdout",
     "output_type": "stream",
     "text": [
      "mu0=array([[0.59225882, 0.21102029, 0.45189306],\n",
      "       [0.18503061, 0.7891408 , 0.60350823]])\n",
      "\n",
      "target_function(mu)=0.30686551395361206\n",
      "\n",
      "mu=array([[3.95354736e-01, 2.01072544e-06, 4.75230030e-10],\n",
      "       [1.19916322e-07, 1.14632483e-07, 6.04643031e-01]])\n",
      "\n",
      "np.sum(mu)=1.0000000134993585\n",
      "\n",
      "edge_distribution(mu)=array([[3.95355742e-01, 1.00583795e-06],\n",
      "       [1.77232564e-07, 6.04643089e-01]])\n"
     ]
    }
   ],
   "source": [
    "def optimize(mu0):\n",
    "    # bounds = np.hstack([\n",
    "    #     np.zeros_like(mu0.flatten())[:, np.newaxis],\n",
    "    #     np.ones_like(mu0.flatten())[:, np.newaxis]\n",
    "    # ])\n",
    "    chi0 = np.log(mu0)\n",
    "    # bound = Bounds(np.zeros_like(chi0.flatten()), np.inf)\n",
    "\n",
    "    # norm_constraint = LinearConstraint(np.ones_like(chi0.flatten()), 1, 1)\n",
    "    norm_constraint = NonlinearConstraint(lambda chi: np.sum(np.exp(chi)), lb=1, ub=1)\n",
    "                                        #   jac=lambda chi0: np.exp(chi0),\n",
    "                                        #   hess=lambda chi0: np.diag(chi0))\n",
    "    admissibility_linear = np.hstack((np.arange(kappa+1), kappa - np.arange(kappa+1))) / kappa\n",
    "    admissibility_constraint = NonlinearConstraint(lambda chi: admissibility_linear @ np.exp(chi), lb=0, ub=0)\n",
    "                                                # jac=lambda chi0: admissibility_linear * np.exp(chi0),\n",
    "                                                # hess=lambda chi0: np.diag(admissibility_linear * np.exp(chi0)))\n",
    "    \n",
    "    res = minimize(lambda chi: -target_function(np.exp(chi).reshape(2, kappa+1)),\n",
    "                   x0=chi0.flatten(), method='trust-constr', \n",
    "                   constraints=[norm_constraint, admissibility_constraint],\n",
    "                   options={'verbose': 0})\n",
    "    \n",
    "    return res\n",
    "\n",
    "beta = 1\n",
    "B = 0\n",
    "mu0 = np.random.uniform(0, 1, (2, kappa+1))\n",
    "print(f'{mu0=}\\n')\n",
    "res = optimize(mu0)\n",
    "mu = np.exp(res.x).reshape(2, kappa+1)\n",
    "print(f'{target_function(mu)=}\\n')\n",
    "print(f'{mu=}\\n\\n{np.sum(mu)=}\\n\\n{edge_distribution(mu)=}')"
   ]
  },
  {
   "cell_type": "code",
   "execution_count": 170,
   "metadata": {},
   "outputs": [
    {
     "name": "stderr",
     "output_type": "stream",
     "text": [
      " 16%|█▌        | 16/100 [00:16<01:32,  1.11s/it]/Users/yizhonghu/anaconda3/lib/python3.8/site-packages/scipy/optimize/_hessian_update_strategy.py:182: UserWarning: delta_grad == 0.0. Check if the approximated function is linear. If the function is linear better results can be obtained by defining the Hessian as zero instead of using quasi-Newton approximations.\n",
      "  warn('delta_grad == 0.0. Check if the approximated '\n",
      "/Users/yizhonghu/anaconda3/lib/python3.8/site-packages/scipy/optimize/_trustregion_constr/projections.py:181: UserWarning: Singular Jacobian matrix. Using SVD decomposition to perform the factorizations.\n",
      "  warn('Singular Jacobian matrix. Using SVD decomposition to ' +\n",
      "100%|██████████| 100/100 [02:15<00:00,  1.36s/it]\n"
     ]
    }
   ],
   "source": [
    "point_cloud = []\n",
    "for it in tqdm(range(100)):\n",
    "    mu0 = np.random.uniform(0.5, 0.6, (2, kappa+1))\n",
    "    res = optimize(mu0)\n",
    "    mu = np.exp(res.x).reshape(2, kappa+1)\n",
    "    \n",
    "    point_cloud.append(mu.flatten())\n",
    "    \n",
    "point_cloud = np.array(point_cloud)"
   ]
  },
  {
   "cell_type": "code",
   "execution_count": null,
   "metadata": {},
   "outputs": [
    {
     "name": "stdout",
     "output_type": "stream",
     "text": [
      "[61.58948159418249, 64.91703938522286, 67.62080087069029, 68.96626832926269, 70.21510644361824, 70.24151585740212]\n"
     ]
    }
   ],
   "source": [
    "from sklearn.decomposition import PCA\n",
    "\n",
    "precisions = []\n",
    "\n",
    "for dims in range(6):\n",
    "    pca = PCA(n_components=dims+1)\n",
    "    pca.fit(point_cloud)\n",
    "    precisions.append(pca.score(point_cloud))\n",
    "    \n",
    "print(precisions)"
   ]
  },
  {
   "cell_type": "code",
   "execution_count": null,
   "metadata": {},
   "outputs": [
    {
     "data": {
      "image/png": "[encoded data removed]",
      "text/plain": [
       "<Figure size 432x288 with 1 Axes>"
      ]
     },
     "metadata": {
      "needs_background": "light"
     },
     "output_type": "display_data"
    }
   ],
   "source": [
    "plt.plot(np.arange(6)+1, precisions)\n",
    "plt.xlabel('Dimensions')\n",
    "plt.ylabel('Score')\n",
    "plt.savefig('../img/pca_partial.png')"
   ]
  },
  {
   "cell_type": "code",
   "execution_count": 230,
   "metadata": {},
   "outputs": [
    {
     "name": "stdout",
     "output_type": "stream",
     "text": [
      "np.sum(mu)=0.9999997864538266, target=0.43378066628936596\n"
     ]
    },
    {
     "data": {
      "text/plain": [
       "array([[0.3877483 , 0.10495102, 0.00712468],\n",
       "       [0.00708234, 0.10503461, 0.38805884]])"
      ]
     },
     "execution_count": 230,
     "metadata": {},
     "output_type": "execute_result"
    }
   ],
   "source": [
    "beta = 1\n",
    "B = 0\n",
    "\n",
    "x0 = np.random.uniform(-10, 10, (2, 3))\n",
    "# x0 = np.zeros((2, kappa+1))\n",
    "\n",
    "x, target = optimize(x0, lam0=np.zeros(2), patience=2000, eps=1e-6, verbose=False)\n",
    "mu = np.exp(x)\n",
    "print(f'{np.sum(mu)=}, {target=}')\n",
    "mu"
   ]
  },
  {
   "attachments": {},
   "cell_type": "markdown",
   "metadata": {},
   "source": [
    "### P(X0, X1)"
   ]
  },
  {
   "cell_type": "code",
   "execution_count": 77,
   "metadata": {},
   "outputs": [
    {
     "name": "stdout",
     "output_type": "stream",
     "text": [
      "pi_mu=array([[3.27776120e-01, 9.27474153e-10],\n",
      "       [9.27474153e-10, 6.72223883e-01]])\n",
      "p_x0=array([0.32777612, 0.67222388]) p_x1=array([0.32777612, 0.67222388])\n",
      "np.outer(p_x0, p_x1)=array([[0.10743719, 0.22033894],\n",
      "       [0.22033894, 0.45188495]])\n"
     ]
    }
   ],
   "source": [
    "pi_mu = edge_distribution(mu)\n",
    "print(f'{pi_mu=}')\n",
    "p_x0 = np.sum(pi_mu, axis=1)\n",
    "p_x1 = np.sum(pi_mu, axis=0)\n",
    "print(f'{p_x0=}', f'{p_x1=}')\n",
    "print(f'{np.outer(p_x0, p_x1)=}')"
   ]
  },
  {
   "attachments": {},
   "cell_type": "markdown",
   "metadata": {},
   "source": [
    "### P(X1, X2)"
   ]
  },
  {
   "cell_type": "code",
   "execution_count": 52,
   "metadata": {},
   "outputs": [
    {
     "name": "stdout",
     "output_type": "stream",
     "text": [
      "leaf_dist=array([[5.29443441e-01, 1.36443170e-09],\n",
      "       [1.36443170e-09, 4.70556560e-01]])\n",
      "p_x1=array([0.47055656, 0.52944344]) p_x2=array([0.47055656, 0.52944344])\n",
      "np.outer(p_x1, p_x2)=array([[0.22142348, 0.24913309],\n",
      "       [0.24913309, 0.28031036]])\n"
     ]
    }
   ],
   "source": [
    "mu_edge = np.sum(mu, axis=0)\n",
    "leaf_dist = np.array([[mu_edge[2], mu_edge[1] / 2],\n",
    "                      [mu_edge[1] / 2, mu_edge[0]],])\n",
    "print(f'{leaf_dist=}')\n",
    "p_x1 = np.sum(pi_mu, axis=1)\n",
    "p_x2 = np.sum(pi_mu, axis=0)\n",
    "print(f'{p_x1=}', f'{p_x2=}')\n",
    "print(f'{np.outer(p_x1, p_x2)=}')"
   ]
  },
  {
   "attachments": {},
   "cell_type": "markdown",
   "metadata": {},
   "source": [
    "### P(X1, X2 | X0)"
   ]
  },
  {
   "cell_type": "code",
   "execution_count": 54,
   "metadata": {},
   "outputs": [
    {
     "name": "stdout",
     "output_type": "stream",
     "text": [
      "mu_edge=array([9.99999996e-01, 2.89961252e-09, 1.44980627e-09])\n",
      "leaf_dist=array([[1.44980627e-09, 1.44980626e-09],\n",
      "       [1.44980626e-09, 9.99999996e-01]])\n",
      "p_x1=array([0.47055656, 0.52944344]) p_x2=array([0.47055656, 0.52944344])\n",
      "np.outer(p_x1, p_x2)=array([[0.22142348, 0.24913309],\n",
      "       [0.24913309, 0.28031036]])\n"
     ]
    }
   ],
   "source": [
    "x0 = 0\n",
    "mu_edge = mu[x0] / np.sum(mu, axis=1)[x0]\n",
    "print(f'{mu_edge=}')\n",
    "leaf_dist = np.array([[mu_edge[2], mu_edge[1] / 2],\n",
    "                      [mu_edge[1] / 2, mu_edge[0]],])\n",
    "print(f'{leaf_dist=}')\n",
    "p_x1 = np.sum(pi_mu, axis=1)\n",
    "p_x2 = np.sum(pi_mu, axis=0)\n",
    "print(f'{p_x1=}', f'{p_x2=}')\n",
    "print(f'{np.outer(p_x1, p_x2)=}')"
   ]
  }
 ],
 "metadata": {
  "kernelspec": {
   "display_name": "base",
   "language": "python",
   "name": "python3"
  },
  "language_info": {
   "codemirror_mode": {
    "name": "ipython",
    "version": 3
   },
   "file_extension": ".py",
   "mimetype": "text/x-python",
   "name": "python",
   "nbconvert_exporter": "python",
   "pygments_lexer": "ipython3",
   "version": "3.8.3"
  },
  "orig_nbformat": 4
 },
 "nbformat": 4,
 "nbformat_minor": 2
}
