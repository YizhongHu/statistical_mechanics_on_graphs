{
 "cells": [
  {
   "cell_type": "code",
   "execution_count": 2,
   "metadata": {},
   "outputs": [],
   "source": [
    "import numpy as np\n",
    "import matplotlib.pyplot as plt\n",
    "from scipy.optimize import minimize, LinearConstraint, NonlinearConstraint, Bounds\n",
    "import scipy.special\n",
    "from scipy.stats import binom, multinomial\n",
    "from tqdm import tqdm\n",
    "\n",
    "from combinations import combinations_"
   ]
  },
  {
   "cell_type": "code",
   "execution_count": 140,
   "metadata": {},
   "outputs": [
    {
     "name": "stdout",
     "output_type": "stream",
     "text": [
      "eta(kappa=3)=array([[0.0625, 0.1875, 0.1875, 0.0625],\n",
      "       [0.0625, 0.1875, 0.1875, 0.0625]])\n",
      "Hamiltonian(beta=1, kappa=2)=array([[0., 0., 0.],\n",
      "       [1., 1., 1.]])\n"
     ]
    }
   ],
   "source": [
    "def get_configuration_chart(m, kappa):\n",
    "    '''\n",
    "    Given the edge states, output all the unique configurations they can be\n",
    "    in (Balls and bins problem)\n",
    "    '''\n",
    "    return np.array(combinations_(kappa, m * 2))\n",
    "\n",
    "def eta(kappa):\n",
    "    '''\n",
    "    Generate a Bernoulli(1/2) distribution on vertices and edges\n",
    "    '''\n",
    "    multiplicity = np.fromfunction(lambda _, k: scipy.special.comb(kappa, k), (2, kappa+1))\n",
    "    eta = multiplicity / (2 ** (kappa+1))\n",
    "    return eta\n",
    "\n",
    "def Hamiltonian(beta, kappa):\n",
    "    '''\n",
    "    Generate hamiltonian values corresponding to all unique states\n",
    "    '''\n",
    "    return np.fromfunction(lambda x0, _: beta * x0, (2, kappa+1))\n",
    "\n",
    "def relative_entropy(p, q):\n",
    "    p_divided_by_q = np.divide(p, q, out=np.ones_like(p), where=(p > 0) & (q > 0))\n",
    "    partial = p * np.log(p_divided_by_q)\n",
    "    return np.sum(partial)\n",
    "\n",
    "def edge_distribution(p, kappa):\n",
    "    '''\n",
    "    Joint distribution for a randomly-chosen edge \n",
    "    '''\n",
    "    counts = np.vstack((kappa - np.arange(kappa+1),\n",
    "                        np.arange(kappa+1)))\n",
    "    return p @ counts.T / kappa\n",
    "\n",
    "def admissibility_linear(kappa):\n",
    "    untruncated = np.hstack((-np.arange(kappa+1), kappa - np.arange(kappa+1))) / kappa\n",
    "    return untruncated[:kappa+2]\n",
    "\n",
    "def hardcore_linear(kappa):\n",
    "    return np.eye(2 * (kappa + 1))[list(range(kappa+2, 2*(kappa+1))), :]\n",
    "\n",
    "def hardcore_rep_to_normal_rep(mu, kappa):\n",
    "    return np.hstack((mu, np.zeros(kappa))).reshape(2, kappa+1)\n",
    "\n",
    "def multinomial_coeff(params):\n",
    "    '''\n",
    "    Calculate the multinomial coefficient\n",
    "    \n",
    "    Inputs:\n",
    "    params: a list, [x1, x2, ..., xk]\n",
    "    \n",
    "    Outputs:\n",
    "    multinomial coefficient {x1 + x2 + ... + xk \\choose x1 x2 ... xk}\n",
    "    '''\n",
    "    if len(params) == 1:\n",
    "        return 1\n",
    "    return scipy.special.binom(sum(params), params[-1]) * multinomial_coeff(params[:-1])\n",
    "\n",
    "def vertex_distribution(p, kappa):\n",
    "    '''\n",
    "    Joint distribution for all edge-vertex pairs\n",
    "    \n",
    "    Input:\n",
    "    p: 1-d array representing distribution on leaf configurations\n",
    "    \n",
    "    Output:\n",
    "    kappa-d array representing the joint distribution of all edge-vertex pairs\n",
    "    '''\n",
    "    # Get the equivalent configuration for each combined vertex-edge state\n",
    "    def counts(*vertex_marks):\n",
    "        stacked = np.stack(vertex_marks, axis=0)\n",
    "        return np.sum(stacked, axis=0)\n",
    "    ks = np.fromfunction(counts, [2] * kappa, dtype=np.int64)\n",
    "    \n",
    "    # Match the configurations with the ones from configurations list\n",
    "    k_reshaped = ks.flatten()\n",
    "    \n",
    "    # Calculate probabilities for each one\n",
    "    probabilities = [p[k] / scipy.special.comb(kappa, k) for k in k_reshaped]\n",
    "    \n",
    "    return np.array(probabilities).reshape((2,) * kappa)\n",
    "\n",
    "def objective_function(mu, beta, kappa):\n",
    "    eta_dist = eta(kappa=kappa)\n",
    "    hamiltonian = Hamiltonian(beta=beta, kappa=kappa)\n",
    "    exp = np.sum(hamiltonian * mu)\n",
    "    rel_entr = relative_entropy(mu, eta_dist)\n",
    "    \n",
    "    pi_mu = edge_distribution(mu, kappa=kappa)\n",
    "    pi_eta = edge_distribution(eta_dist, kappa=kappa)\n",
    "    marg_rel_entr = relative_entropy(pi_mu, pi_eta)\n",
    "    return exp - rel_entr + kappa / 2 * marg_rel_entr\n",
    "\n",
    "def visualize(p, ax):\n",
    "    '''\n",
    "    Generates a heatmap for the distribution\n",
    "    '''\n",
    "    ax.get_xaxis().set_visible(False)\n",
    "    ax.get_yaxis().set_visible(False)\n",
    "    im = ax.imshow(p, extent=[0, 2 * p.shape[1], 0, 4], cmap='Greys')\n",
    "    for i in range(p.shape[0]):\n",
    "        for j in range(p.shape[1]):\n",
    "            text = ax.text(2*j+1, 4 - (2*i+1), f'{p[i, j]:.3f}',\n",
    "                        ha=\"center\", va=\"center\", color=\"red\")\n",
    "    return im\n",
    "\n",
    "print(f'{eta(kappa=3)=}')\n",
    "print(f'{Hamiltonian(beta=1, kappa=2)=}')"
   ]
  },
  {
   "cell_type": "code",
   "execution_count": 64,
   "metadata": {},
   "outputs": [],
   "source": [
    "def optimize(beta, kappa, mu0=None, verbose=False, ftol=1e-9, max_iter=1000, project_mu0=False, constraint_tol=0, num_trials=10):\n",
    "    \n",
    "    eta_dist = eta(kappa=kappa)\n",
    "    \n",
    "    bounds = Bounds(np.zeros(kappa+2), np.ones(kappa+2))\n",
    "    norm_constraint = LinearConstraint(np.ones(kappa+2), 1-constraint_tol, 1+constraint_tol)\n",
    "    admissibility_constraint = LinearConstraint(admissibility_linear(kappa=kappa), lb=-constraint_tol, ub=constraint_tol)\n",
    "    # hardcore_constraint = LinearConstraint(hardcore_linear(kappa=kappa), lb=-constraint_tol, ub=-constraint_tol)\n",
    "\n",
    "    if verbose:\n",
    "        print(f'{beta=}, {kappa=}')\n",
    "    \n",
    "    if mu0 is None:\n",
    "        mu0 = np.random.uniform(-1, 1, size=kappa+2)\n",
    "        mu0 = mu0 / np.sum(mu0)\n",
    "        # Project onto the closest point on the probability simplex\n",
    "        if project_mu0:\n",
    "            res = minimize(lambda mu: np.sum((mu - mu0.flatten())** 2) / 2, x0=mu0.flatten(), \n",
    "                        method='trust-constr', \n",
    "                        constraints=[norm_constraint, admissibility_constraint], \n",
    "                        bounds=bounds)\n",
    "            # mu0 = res.x.reshape(2, -1)\n",
    "            if not res.success:\n",
    "                print('optimization unsuccessfull')\n",
    "                print(res)\n",
    "        \n",
    "    res = minimize(lambda mu: -objective_function(hardcore_rep_to_normal_rep(mu, kappa), beta=beta, kappa=kappa),\n",
    "                x0=mu0.flatten(), method='SLSQP', \n",
    "                constraints=[norm_constraint, admissibility_constraint],\n",
    "                bounds=bounds,\n",
    "                options={'ftol': ftol, 'disp': verbose, 'maxiter': max_iter})\n",
    "    \n",
    "    if not res.success:\n",
    "        print('optimization unsuccessfull')\n",
    "        print(res)\n",
    "    \n",
    "    mu = hardcore_rep_to_normal_rep(res.x, kappa)\n",
    "    objective = objective_function(mu, beta=beta, kappa=kappa)\n",
    "    \n",
    "    # if objective > max_objective:\n",
    "    #     max_objective = objective\n",
    "    #     max_mu = mu\n",
    "        \n",
    "    if verbose:\n",
    "        print(f'{objective=}\\n')\n",
    "        print(f'mu={mu}\\n\\n{np.sum(mu)=}\\n\\n edge_distribution={edge_distribution(mu, kappa=kappa)}')\n",
    "    \n",
    "    return mu"
   ]
  },
  {
   "cell_type": "code",
   "execution_count": 136,
   "metadata": {},
   "outputs": [
    {
     "name": "stdout",
     "output_type": "stream",
     "text": [
      "beta=1, kappa=3\n",
      "Optimization terminated successfully    (Exit mode 0)\n",
      "            Current function value: -0.01937801356780755\n",
      "            Iterations: 20\n",
      "            Function evaluations: 126\n",
      "            Gradient evaluations: 20\n",
      "objective=0.01937801356780755\n",
      "\n",
      "mu=[[0.11428302 0.28125128 0.23072179 0.06308948]\n",
      " [0.31065443 0.         0.         0.        ]]\n",
      "\n",
      "np.sum(mu)=1.0\n",
      "\n",
      " edge_distribution=[[0.37869113 0.31065443]\n",
      " [0.31065443 0.        ]]\n"
     ]
    },
    {
     "data": {
      "image/png": "[encoded data removed]",
      "text/plain": [
       "<Figure size 2520x144 with 2 Axes>"
      ]
     },
     "metadata": {
      "needs_background": "light"
     },
     "output_type": "display_data"
    }
   ],
   "source": [
    "mu = optimize(beta=1, kappa=3, verbose=True, max_iter=1000000, project_mu0=True, ftol=1e-10, num_trials=100)\n",
    "fig, ax = plt.subplots(1, 1, figsize=(35, 2))\n",
    "im = visualize(mu, ax)\n",
    "fig.colorbar(im, ax=ax)\n",
    "plt.show()"
   ]
  },
  {
   "attachments": {},
   "cell_type": "markdown",
   "metadata": {},
   "source": [
    "### P(X1, X2 | X0)"
   ]
  },
  {
   "cell_type": "code",
   "execution_count": 141,
   "metadata": {},
   "outputs": [
    {
     "name": "stdout",
     "output_type": "stream",
     "text": [
      "beta=1, kappa=2\n",
      "Optimization terminated successfully    (Exit mode 0)\n",
      "            Current function value: -0.10565207650835434\n",
      "            Iterations: 13\n",
      "            Function evaluations: 70\n",
      "            Gradient evaluations: 13\n",
      "objective=0.10565207650835434\n",
      "\n",
      "mu=[[0.13055974 0.3193091  0.19523831]\n",
      " [0.35489286 0.         0.        ]]\n",
      "\n",
      "np.sum(mu)=1.0\n",
      "\n",
      " edge_distribution=[[0.29021429 0.35489286]\n",
      " [0.35489286 0.        ]]\n",
      "mu_edge=array([0.20238458, 0.49497064, 0.30264478])\n",
      "leaf_dist=array([[0.20238458, 0.24748532],\n",
      "       [0.24748532, 0.30264478]])\n",
      "p_x1=array([0.4498699, 0.5501301])\n",
      "p_x2=array([0.4498699, 0.5501301])\n",
      "np.outer(p_x1, p_x2)=array([[0.20238293, 0.24748697],\n",
      "       [0.24748697, 0.30264312]])\n"
     ]
    }
   ],
   "source": [
    "kappa=2\n",
    "mu = optimize(beta=1, kappa=kappa, verbose=True, max_iter=1000000, project_mu0=True, ftol=1e-10, num_trials=100)\n",
    "\n",
    "x0 = 0\n",
    "\n",
    "mu_edge = mu[x0] / np.sum(mu, axis=1)[x0]\n",
    "print(f'{mu_edge=}')\n",
    "leaf_dist = vertex_distribution(mu_edge, kappa)\n",
    "leaf_dist = np.sum(leaf_dist, axis=tuple(range(2, kappa)))\n",
    "print(f'{leaf_dist=}')\n",
    "p_x1 = np.sum(leaf_dist, axis=1)\n",
    "p_x2 = np.sum(leaf_dist, axis=0)\n",
    "print(f'{p_x1=}\\n{p_x2=}')\n",
    "print(f'{np.outer(p_x1, p_x2)=}')"
   ]
  },
  {
   "cell_type": "code",
   "execution_count": 175,
   "metadata": {},
   "outputs": [
    {
     "name": "stderr",
     "output_type": "stream",
     "text": [
      "100%|██████████| 31/31 [00:01<00:00, 15.80it/s]\n",
      "100%|██████████| 31/31 [00:01<00:00, 19.90it/s]\n"
     ]
    }
   ],
   "source": [
    "betas = np.linspace(-3, 3, 31)\n",
    "kappa = 5\n",
    "\n",
    "res = []\n",
    "\n",
    "for x0 in [0, 1]:\n",
    "    mutual_info = []\n",
    "\n",
    "    for beta in tqdm(betas):\n",
    "        mu = optimize(beta=beta, kappa=kappa, ftol=1e-10)\n",
    "\n",
    "        mu_edge = mu[x0] / np.sum(mu, axis=1)[x0]\n",
    "        \n",
    "        leaf_dist = vertex_distribution(mu_edge, kappa=kappa)\n",
    "        leaf_dist = np.sum(leaf_dist, axis=tuple(range(2, kappa)))\n",
    "        \n",
    "        p_x1 = np.sum(leaf_dist, axis=1)\n",
    "        p_x2 = np.sum(leaf_dist, axis=0)\n",
    "        indep_dist = np.outer(p_x1, p_x2)\n",
    "\n",
    "        mutual_info.append(relative_entropy(leaf_dist, indep_dist))\n",
    "        \n",
    "    mutual_info = np.array(mutual_info)\n",
    "    res.append(mutual_info)"
   ]
  },
  {
   "cell_type": "code",
   "execution_count": 176,
   "metadata": {},
   "outputs": [
    {
     "data": {
      "image/png": "[encoded data removed]",
      "text/plain": [
       "<Figure size 432x288 with 1 Axes>"
      ]
     },
     "metadata": {
      "needs_background": "light"
     },
     "output_type": "display_data"
    }
   ],
   "source": [
    "for mutual_info, x0, m in zip(res, [0, 1], ['o', ':', 'x', '*', '--']):\n",
    "    plt.plot(betas, mutual_info, m, label=f'$X_0={x0}$')\n",
    "\n",
    "plt.legend()\n",
    "plt.title(f'Conditional Independence given $X_0$, $\\kappa={kappa}$')\n",
    "plt.xlabel('$\\\\beta$')\n",
    "plt.ylabel('Mutual Information $I(X_v ; X_{{v\\'}} | X_0)$')\n",
    "plt.grid(True)\n",
    "\n",
    "plt.ylim((-.01, 0.11))\n",
    "\n",
    "plt.savefig(f'../img/HA_Ising/CI_kappa{kappa}.png')"
   ]
  },
  {
   "attachments": {},
   "cell_type": "markdown",
   "metadata": {},
   "source": [
    "### P(X0) with respect to beta"
   ]
  },
  {
   "cell_type": "code",
   "execution_count": 161,
   "metadata": {},
   "outputs": [
    {
     "data": {
      "image/png": "[encoded data removed]",
      "text/plain": [
       "<Figure size 432x288 with 1 Axes>"
      ]
     },
     "metadata": {
      "needs_background": "light"
     },
     "output_type": "display_data"
    }
   ],
   "source": [
    "betas = np.linspace(-3, 3, 51)\n",
    "\n",
    "probabilities = []\n",
    "for beta in betas:\n",
    "    mu = optimize(beta=beta, kappa=2, ftol=1e-10)\n",
    "    probabilities.append(np.sum(mu[1]))\n",
    "    \n",
    "plt.plot(betas, probabilities)\n",
    "plt.title('Root mark distribution')\n",
    "plt.xlabel('$\\\\beta$')\n",
    "plt.ylabel('$\\mathbb{P}(X_0=1)$')\n",
    "plt.grid(True)"
   ]
  },
  {
   "cell_type": "code",
   "execution_count": 168,
   "metadata": {},
   "outputs": [
    {
     "data": {
      "image/png": "[encoded data removed]",
      "text/plain": [
       "<Figure size 432x288 with 1 Axes>"
      ]
     },
     "metadata": {
      "needs_background": "light"
     },
     "output_type": "display_data"
    }
   ],
   "source": [
    "betas = np.linspace(-3, 3, 51)\n",
    "\n",
    "probabilities = []\n",
    "for beta in betas:\n",
    "    mu = optimize(beta=beta, kappa=2, ftol=1e-10)\n",
    "    probabilities.append(np.sum(mu[1]))\n",
    "    \n",
    "probabilities = np.array(probabilities)\n",
    "    \n",
    "plt.plot(betas, np.log(probabilities / (1 - probabilities)))\n",
    "plt.title('Root mark distribution')\n",
    "plt.xlabel('$\\\\beta$')\n",
    "plt.ylabel('$\\log(\\mu_0(+) / (1-\\mu_0(+)))$')\n",
    "plt.grid(True)"
   ]
  },
  {
   "attachments": {},
   "cell_type": "markdown",
   "metadata": {},
   "source": [
    "#### Different $\\kappa$ values"
   ]
  },
  {
   "cell_type": "code",
   "execution_count": 143,
   "metadata": {},
   "outputs": [
    {
     "name": "stdout",
     "output_type": "stream",
     "text": [
      "C=array([[0, 0, 0, 6],\n",
      "       [0, 0, 1, 5],\n",
      "       [0, 0, 2, 4],\n",
      "       [0, 0, 3, 3],\n",
      "       [0, 0, 4, 2],\n",
      "       [0, 0, 5, 1],\n",
      "       [0, 0, 6, 0],\n",
      "       [0, 1, 0, 5],\n",
      "       [0, 1, 1, 4],\n",
      "       [0, 1, 2, 3],\n",
      "       [0, 1, 3, 2],\n",
      "       [0, 1, 4, 1],\n",
      "       [0, 1, 5, 0],\n",
      "       [1, 0, 0, 5],\n",
      "       [1, 0, 1, 4],\n",
      "       [1, 0, 2, 3],\n",
      "       [1, 0, 3, 2],\n",
      "       [1, 0, 4, 1],\n",
      "       [1, 0, 5, 0],\n",
      "       [0, 2, 0, 4],\n",
      "       [0, 2, 1, 3],\n",
      "       [0, 2, 2, 2],\n",
      "       [0, 2, 3, 1],\n",
      "       [0, 2, 4, 0],\n",
      "       [1, 1, 0, 4],\n",
      "       [1, 1, 1, 3],\n",
      "       [1, 1, 2, 2],\n",
      "       [1, 1, 3, 1],\n",
      "       [1, 1, 4, 0],\n",
      "       [2, 0, 0, 4],\n",
      "       [2, 0, 1, 3],\n",
      "       [2, 0, 2, 2],\n",
      "       [2, 0, 3, 1],\n",
      "       [2, 0, 4, 0],\n",
      "       [0, 3, 0, 3],\n",
      "       [0, 3, 1, 2],\n",
      "       [0, 3, 2, 1],\n",
      "       [0, 3, 3, 0],\n",
      "       [1, 2, 0, 3],\n",
      "       [1, 2, 1, 2],\n",
      "       [1, 2, 2, 1],\n",
      "       [1, 2, 3, 0],\n",
      "       [2, 1, 0, 3],\n",
      "       [2, 1, 1, 2],\n",
      "       [2, 1, 2, 1],\n",
      "       [2, 1, 3, 0],\n",
      "       [3, 0, 0, 3],\n",
      "       [3, 0, 1, 2],\n",
      "       [3, 0, 2, 1],\n",
      "       [3, 0, 3, 0],\n",
      "       [0, 4, 0, 2],\n",
      "       [0, 4, 1, 1],\n",
      "       [0, 4, 2, 0],\n",
      "       [1, 3, 0, 2],\n",
      "       [1, 3, 1, 1],\n",
      "       [1, 3, 2, 0],\n",
      "       [2, 2, 0, 2],\n",
      "       [2, 2, 1, 1],\n",
      "       [2, 2, 2, 0],\n",
      "       [3, 1, 0, 2],\n",
      "       [3, 1, 1, 1],\n",
      "       [3, 1, 2, 0],\n",
      "       [4, 0, 0, 2],\n",
      "       [4, 0, 1, 1],\n",
      "       [4, 0, 2, 0],\n",
      "       [0, 5, 0, 1],\n",
      "       [0, 5, 1, 0],\n",
      "       [1, 4, 0, 1],\n",
      "       [1, 4, 1, 0],\n",
      "       [2, 3, 0, 1],\n",
      "       [2, 3, 1, 0],\n",
      "       [3, 2, 0, 1],\n",
      "       [3, 2, 1, 0],\n",
      "       [4, 1, 0, 1],\n",
      "       [4, 1, 1, 0],\n",
      "       [5, 0, 0, 1],\n",
      "       [5, 0, 1, 0],\n",
      "       [0, 6, 0, 0],\n",
      "       [1, 5, 0, 0],\n",
      "       [2, 4, 0, 0],\n",
      "       [3, 3, 0, 0],\n",
      "       [4, 2, 0, 0],\n",
      "       [5, 1, 0, 0],\n",
      "       [6, 0, 0, 0]])\n",
      "beta=1, B=2, kappa=6\n",
      "mu0=array([[0.00012207, 0.00073242, 0.00183105, 0.00244141, 0.00183105,\n",
      "        0.00073242, 0.00012207, 0.00073242, 0.00366211, 0.00732422,\n",
      "        0.00732422, 0.00366211, 0.00073242, 0.00073242, 0.00366211,\n",
      "        0.00732422, 0.00732422, 0.00366211, 0.00073242, 0.00183105,\n",
      "        0.00732422, 0.01098633, 0.00732422, 0.00183105, 0.00366211,\n",
      "        0.01464844, 0.02197266, 0.01464844, 0.00366211, 0.00183105,\n",
      "        0.00732422, 0.01098633, 0.00732422, 0.00183105, 0.00244141,\n",
      "        0.00732422, 0.00732422, 0.00244141, 0.00732422, 0.02197266,\n",
      "        0.02197266, 0.00732422, 0.00732422, 0.02197266, 0.02197266,\n",
      "        0.00732422, 0.00244141, 0.00732422, 0.00732422, 0.00244141,\n",
      "        0.00183105, 0.00366211, 0.00183105, 0.00732422, 0.01464844,\n",
      "        0.00732422, 0.01098633, 0.02197266, 0.01098633, 0.00732422,\n",
      "        0.01464844, 0.00732422, 0.00183105, 0.00366211, 0.00183105,\n",
      "        0.00073242, 0.00073242, 0.00366211, 0.00366211, 0.00732422,\n",
      "        0.00732422, 0.00732422, 0.00732422, 0.00366211, 0.00366211,\n",
      "        0.00073242, 0.00073242, 0.00012207, 0.00073242, 0.00183105,\n",
      "        0.00244141, 0.00183105, 0.00073242, 0.00012207],\n",
      "       [0.00012207, 0.00073242, 0.00183105, 0.00244141, 0.00183105,\n",
      "        0.00073242, 0.00012207, 0.00073242, 0.00366211, 0.00732422,\n",
      "        0.00732422, 0.00366211, 0.00073242, 0.00073242, 0.00366211,\n",
      "        0.00732422, 0.00732422, 0.00366211, 0.00073242, 0.00183105,\n",
      "        0.00732422, 0.01098633, 0.00732422, 0.00183105, 0.00366211,\n",
      "        0.01464844, 0.02197266, 0.01464844, 0.00366211, 0.00183105,\n",
      "        0.00732422, 0.01098633, 0.00732422, 0.00183105, 0.00244141,\n",
      "        0.00732422, 0.00732422, 0.00244141, 0.00732422, 0.02197266,\n",
      "        0.02197266, 0.00732422, 0.00732422, 0.02197266, 0.02197266,\n",
      "        0.00732422, 0.00244141, 0.00732422, 0.00732422, 0.00244141,\n",
      "        0.00183105, 0.00366211, 0.00183105, 0.00732422, 0.01464844,\n",
      "        0.00732422, 0.01098633, 0.02197266, 0.01098633, 0.00732422,\n",
      "        0.01464844, 0.00732422, 0.00183105, 0.00366211, 0.00183105,\n",
      "        0.00073242, 0.00073242, 0.00366211, 0.00366211, 0.00732422,\n",
      "        0.00732422, 0.00732422, 0.00732422, 0.00366211, 0.00366211,\n",
      "        0.00073242, 0.00073242, 0.00012207, 0.00073242, 0.00183105,\n",
      "        0.00244141, 0.00183105, 0.00073242, 0.00012207]])\n"
     ]
    },
    {
     "name": "stderr",
     "output_type": "stream",
     "text": [
      "/Users/yizhonghu/anaconda3/lib/python3.8/site-packages/scipy/optimize/_constraints.py:353: OptimizeWarning: Constraint option `keep_feasible` is ignored by this method.\n",
      "  warn(\"Constraint option `keep_feasible` is ignored by this \"\n"
     ]
    },
    {
     "name": "stdout",
     "output_type": "stream",
     "text": [
      "Iteration limit reached    (Exit mode 9)\n",
      "            Current function value: -2.6105165493722495\n",
      "            Iterations: 100\n",
      "            Function evaluations: 17347\n",
      "            Gradient evaluations: 100\n",
      "objective_function(mu, beta=beta, B=B, kappa=kappa, C=C)=2.6105165493722495\n",
      "\n",
      "mu=array([[4.30172832e-05, 1.85397466e-07, 2.39811504e-06, 3.19520695e-06,\n",
      "        6.65701751e-06, 1.28296014e-08, 9.58133810e-09, 1.61135813e-05,\n",
      "        2.76854463e-05, 6.07518560e-06, 9.16484984e-08, 2.76712122e-07,\n",
      "        1.60204633e-06, 2.94691440e-06, 8.33536504e-07, 5.93769665e-06,\n",
      "        1.54181612e-05, 5.57954744e-09, 4.18739704e-09, 1.03412352e-04,\n",
      "        1.90495315e-04, 9.60875021e-05, 7.19344888e-06, 4.09405332e-06,\n",
      "        5.55888049e-06, 1.13484307e-06, 1.18294163e-06, 5.88666508e-06,\n",
      "        4.95041732e-06, 1.76974684e-07, 8.02948746e-07, 3.91883753e-07,\n",
      "        8.75901297e-09, 4.24539354e-12, 1.00269057e-03, 9.45989248e-04,\n",
      "        2.73175881e-04, 4.92372454e-05, 3.35471835e-05, 3.48754146e-05,\n",
      "        7.39848229e-06, 1.78922841e-07, 8.88106937e-06, 4.65141663e-05,\n",
      "        1.38437688e-06, 3.79078881e-07, 3.57045210e-12, 7.00056392e-12,\n",
      "        7.50683054e-12, 5.08862787e-12, 2.96865136e-03, 1.29662293e-03,\n",
      "        2.97792357e-04, 6.01077207e-05, 8.33554833e-05, 5.56943320e-05,\n",
      "        1.36202378e-05, 1.90904170e-05, 3.32737862e-08, 5.28808610e-07,\n",
      "        2.55847754e-09, 3.30295562e-08, 4.29633374e-12, 5.81196410e-12,\n",
      "        5.30928135e-12, 9.86991842e-03, 2.37596447e-03, 5.63664846e-04,\n",
      "        1.21708568e-04, 4.00835629e-05, 2.17698646e-05, 3.30891614e-07,\n",
      "        5.05711715e-07, 3.83338452e-11, 4.60223410e-12, 4.90689920e-12,\n",
      "        5.41037446e-12, 1.11831158e-02, 2.56247402e-04, 3.72181905e-05,\n",
      "        2.06809299e-06, 2.54933769e-10, 1.17261781e-11, 6.12402832e-12],\n",
      "       [3.95860655e-01, 1.02337071e-02, 1.38994166e-04, 1.77119236e-06,\n",
      "        3.65933191e-06, 2.42920782e-12, 4.82791439e-12, 3.02650394e-01,\n",
      "        8.65217268e-03, 1.20337553e-04, 7.20731651e-07, 1.05007573e-07,\n",
      "        3.64516959e-12, 7.23651950e-02, 7.18068318e-04, 6.92635286e-05,\n",
      "        2.25360166e-07, 8.26041182e-09, 3.72172987e-12, 9.16761247e-02,\n",
      "        1.87073085e-03, 7.53813446e-05, 9.58527608e-06, 3.10067424e-12,\n",
      "        4.61612476e-02, 2.03586740e-03, 2.93829685e-05, 1.19895282e-07,\n",
      "        4.19030324e-12, 5.56268800e-03, 1.11333749e-04, 8.09504338e-07,\n",
      "        4.22984248e-06, 3.29614231e-12, 5.25749197e-03, 2.71945243e-04,\n",
      "        1.74356312e-07, 1.51129919e-08, 1.51853187e-02, 1.04086094e-04,\n",
      "        1.00299955e-06, 1.37961436e-05, 2.33637668e-03, 8.30956349e-05,\n",
      "        8.09069027e-06, 2.27792315e-08, 1.88726051e-04, 1.68168870e-06,\n",
      "        1.59838365e-06, 4.54611959e-09, 1.69682106e-03, 2.61202585e-05,\n",
      "        7.67022161e-07, 2.16236049e-03, 6.24148444e-05, 1.18388305e-07,\n",
      "        1.18045652e-03, 1.17669145e-05, 7.89631134e-06, 6.35683825e-05,\n",
      "        1.48710051e-05, 2.39209657e-07, 4.41018945e-05, 1.87152949e-06,\n",
      "        1.73260408e-06, 1.45104532e-04, 3.43205192e-07, 2.24235334e-04,\n",
      "        1.35806392e-06, 2.44084073e-04, 3.30181690e-07, 4.56530350e-05,\n",
      "        1.05667298e-08, 7.83993287e-06, 2.43082609e-07, 2.63838969e-07,\n",
      "        1.35962527e-06, 3.13622565e-07, 1.35116718e-06, 6.05621894e-06,\n",
      "        1.17414583e-06, 1.10111323e-06, 3.52752198e-06, 8.11842769e-06]])\n",
      "\n",
      "np.sum(mu)=1.0000000034138476\n",
      "\n",
      " edge_distribution=[[[2.75292757e-04 2.65840839e-02]\n",
      "  [1.16326031e-03 4.20358643e-03]]\n",
      "\n",
      " [[2.65840837e-02 1.02515280e-01]\n",
      "  [4.20358654e-03 8.34470830e-01]]]\n"
     ]
    }
   ],
   "source": [
    "kappa = 6\n",
    "B = 2\n",
    "C = get_configuration_chart(4, kappa=kappa)\n",
    "mu = optimize(beta=beta, B=B, kappa=kappa, C=C, ftol=1e-10, verbose=True)"
   ]
  },
  {
   "cell_type": "code",
   "execution_count": 139,
   "metadata": {},
   "outputs": [
    {
     "name": "stderr",
     "output_type": "stream",
     "text": [
      "100%|██████████| 31/31 [00:13<00:00,  2.25it/s]\n",
      "100%|██████████| 31/31 [00:38<00:00,  1.25s/it]\n",
      "100%|██████████| 31/31 [01:21<00:00,  2.64s/it]\n",
      "100%|██████████| 31/31 [02:33<00:00,  4.94s/it]\n",
      "100%|██████████| 31/31 [04:39<00:00,  9.02s/it]\n"
     ]
    }
   ],
   "source": [
    "Bs = np.linspace(-2, 2, 31)\n",
    "kappas = [2, 3, 4, 5, 6]\n",
    "beta = 1\n",
    "\n",
    "res = []\n",
    "for kappa, m in zip(kappas, ['o', ':', 'x', '*', '--']):\n",
    "    probabilities = []\n",
    "    for B in tqdm(Bs):\n",
    "        mu = optimize(beta=beta, B=B, kappa=kappa, ftol=1e-10)\n",
    "        probabilities.append(np.sum(mu[1]))\n",
    "        \n",
    "    res.append(probabilities)"
   ]
  },
  {
   "cell_type": "code",
   "execution_count": 146,
   "metadata": {},
   "outputs": [
    {
     "data": {
      "image/png": "[encoded data removed]",
      "text/plain": [
       "<Figure size 432x288 with 1 Axes>"
      ]
     },
     "metadata": {
      "needs_background": "light"
     },
     "output_type": "display_data"
    }
   ],
   "source": [
    "for probabilities, kappa, m in zip(res, kappas, ['o', ':', 'x', '*', '--']):\n",
    "    probabilities = np.array(probabilities)\n",
    "    plt.plot(Bs, np.log(probabilities / (1 - probabilities)), m, label=f'$\\\\kappa={kappa}$')\n",
    "\n",
    "plt.title(f'Marginal distribution on root mark given kappa ($\\\\beta={beta}$)')\n",
    "plt.xlabel('$B$')\n",
    "plt.ylabel('$\\log(\\mu_0(+) / (1-\\mu_0(+)))$')\n",
    "plt.grid(True)\n",
    "plt.legend()\n",
    "plt.savefig('../img/EA_x0_B_logisitic_change_kappa.png')"
   ]
  },
  {
   "cell_type": "code",
   "execution_count": 66,
   "metadata": {},
   "outputs": [
    {
     "data": {
      "text/plain": [
       "array([[1., 1., 2.],\n",
       "       [0., 2., 2.],\n",
       "       [0., 1., 3.]])"
      ]
     },
     "execution_count": 66,
     "metadata": {},
     "output_type": "execute_result"
    }
   ],
   "source": [
    "A = np.eye(3)\n",
    "b = np.arange(3)\n",
    "A + b"
   ]
  }
 ],
 "metadata": {
  "kernelspec": {
   "display_name": "base",
   "language": "python",
   "name": "python3"
  },
  "language_info": {
   "codemirror_mode": {
    "name": "ipython",
    "version": 3
   },
   "file_extension": ".py",
   "mimetype": "text/x-python",
   "name": "python",
   "nbconvert_exporter": "python",
   "pygments_lexer": "ipython3",
   "version": "3.8.3"
  },
  "orig_nbformat": 4
 },
 "nbformat": 4,
 "nbformat_minor": 2
}
